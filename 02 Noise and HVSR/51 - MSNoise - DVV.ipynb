{
 "cells": [
  {
   "cell_type": "markdown",
   "id": "7ee00963-56fd-4143-a8b5-18953f6dafb8",
   "metadata": {},
   "source": [
    "# Setup and Imports\r\n",
    "\r\n",
    "Same setup as previous notebook:\r\n",
    "- Matplotlib inline configuration\r\n",
    "- Standard scientific Python libraries (numpy, pandas)\r\n",
    "- ObsPy for seismic data processing\r\n",
    "- MSNoise API import\r\n",
    "- Plot styling configuration"
   ]
  },
  {
   "cell_type": "code",
   "execution_count": null,
   "id": "4fb9730b",
   "metadata": {
    "ExecuteTime": {
     "end_time": "2023-02-27T13:51:32.528549Z",
     "start_time": "2023-02-27T13:51:32.504613Z"
    }
   },
   "outputs": [],
   "source": [
    "%matplotlib inline\n",
    "import datetime\n",
    "import matplotlib.pyplot as plt\n",
    "import glob\n",
    "import os\n",
    "from obspy import read, UTCDateTime, read_inventory\n",
    "from obspy.signal import PPSD\n",
    "import warnings\n",
    "import pandas as pd\n",
    "import numpy as np\n",
    "import matplotlib.gridspec as gridspec\n",
    "from matplotlib.dates import DateFormatter\n",
    "from pandas.plotting import register_matplotlib_converters\n",
    "register_matplotlib_converters()\n",
    "plt.style.use(\"ggplot\")\n",
    "\n",
    "from msnoise.api import *"
   ]
  },
  {
   "cell_type": "markdown",
   "id": "8a04df64-91ba-49fb-8248-c23f2ea53f93",
   "metadata": {},
   "source": [
    "# Database Connection and Parameters\r\n",
    "\r\n",
    "Establishes connection to MSNoise database and loads parameters:\r\n",
    "- Creates database connection using `connect()`\r\n",
    "- Retrieves processing parameters using `get_params()`\r\n",
    "\r\n",
    "These will be used throughout the notebook for dv/v analysis."
   ]
  },
  {
   "cell_type": "code",
   "execution_count": null,
   "id": "458207f2-5a39-4c50-b299-daee31de0c17",
   "metadata": {},
   "outputs": [],
   "source": [
    "# connect to the database\n",
    "db = connect()\n",
    "params = get_params(db)"
   ]
  },
  {
   "cell_type": "markdown",
   "id": "c470eadd-2f1c-487b-bfff-723c1e372416",
   "metadata": {},
   "source": [
    "# Display Job Status\r\n",
    "\r\n",
    "Shows current MSNoise job statistics using `msnoise info -j` command to verify processing status before proceeding with dv/v analysis."
   ]
  },
  {
   "cell_type": "code",
   "execution_count": null,
   "id": "641729e6-eab7-48f3-ba8d-86a216aca831",
   "metadata": {},
   "outputs": [],
   "source": [
    "! msnoise info -j"
   ]
  },
  {
   "cell_type": "markdown",
   "id": "176a9ddb",
   "metadata": {},
   "source": [
    "# DVV Processing Sequence\r\n",
    "\r\n",
    "Three-step process to compute velocity variations:\r\n",
    "\r\n",
    "1. Compute MWCS (Moving Window Cross Spectral):\r\n",
    "   - Command: `msnoise cc dvv compute_mwcs`\r\n",
    "   - Uses 5 threads (-t 5)\r\n",
    "   - Verbose output (-v)\r\n",
    "\r\n",
    "2. CompRelativeTT (Delta Travel Time):\r\n",
    "   - Command: `msnoise cc dvv compute_dtt`\r\n",
    "   - Same threading and verbosity settings\r\n",
    "\r\n",
    "3. Compute DVV (Relative Velocity Changes):\r\n",
    "   - Command: `msnoise cc dvv compute_dvv`\r\n",
    "   \r\n",
    "This sequence calculates relative velocity changes from the cross-correlation functions."
   ]
  },
  {
   "cell_type": "code",
   "execution_count": null,
   "id": "2d62dae3",
   "metadata": {},
   "outputs": [],
   "source": [
    "! msnoise -v -t 5 cc dvv compute_mwcs"
   ]
  },
  {
   "cell_type": "code",
   "execution_count": null,
   "id": "6efcc211-ef2d-4d4b-a841-00074533b5dc",
   "metadata": {},
   "outputs": [],
   "source": [
    "! msnoise -v -t 5 cc dvv compute_dtt"
   ]
  },
  {
   "cell_type": "code",
   "execution_count": null,
   "id": "01ae107c-f353-4d1d-bc88-af4d66d81c38",
   "metadata": {},
   "outputs": [],
   "source": [
    "! msnoise cc dvv compute_dvv"
   ]
  },
  {
   "cell_type": "markdown",
   "id": "a5ee68e6",
   "metadata": {},
   "source": [
    "# Plot DVV Results\r\n",
    "\r\n",
    "Uses MSNoise's plotting functionality to visualize dv/v results:\r\n",
    "- Imports dvv plotting function from msnoise.plots\r\n",
    "- Creates plots for filter ID 1\r\n",
    "- Parameters:\r\n",
    "  - `filterid`: Filter selection (e.g., 1)\r\n",
    "  - `show=True`: Display plot immediately\r\n",
    "\r\n",
    "Example commands shown for reference:\r\n",
    "- Basic plot: `msnoise cc dvv plot dvv -f 1`\r\n",
    "- With moving stack: `msnoise cc dvv plot dvv -f 2 -m 2`"
   ]
  },
  {
   "cell_type": "code",
   "execution_count": null,
   "id": "14a7e2fc-a2b7-4646-a528-fa1729fbbc75",
   "metadata": {},
   "outputs": [],
   "source": [
    "from msnoise.plots.dvv import main as plot_dvv\n",
    "for filterid in [1, ]:\n",
    "    plot_dvv(filterid=filterid, show=True)"
   ]
  },
  {
   "cell_type": "markdown",
   "id": "f3cb3d45-2144-4da3-ae44-02245f1d9204",
   "metadata": {},
   "source": [
    "# Custom DVV Analysis by Station Pairs\r\n",
    "\r\n",
    "Creates detailed plots of dv/v results for individual station pairs:\r\n",
    "- Parameters:\r\n",
    "  - Component: \"EN\" (East-North)\r\n",
    "  - Multiple filters and moving stack windows\r\n",
    "  \r\n",
    "Plot configuration:\r\n",
    "- 2x2 subplot grid (10x10 inches)\r\n",
    "- One subplot per filter\r\n",
    "- Multiple station pairs plotted on each subplot\r\n",
    "- Y-axis shows dv/v as percentage\r\n",
    "- Results grouped by moving stack window\r\n",
    "\r\n",
    "Features:\r\n",
    "- Automatic iteration through all station pairs\r\n",
    "- Error handling for missing data\r\n",
    "- Legend showing station pair combinations\r\n",
    "- Filter frequency ranges in titles"
   ]
  },
  {
   "cell_type": "code",
   "execution_count": null,
   "id": "fc91273b-1677-4401-808a-338ffd8dd859",
   "metadata": {},
   "outputs": [],
   "source": [
    "filters = get_filters(db)\n",
    "comp = \"EN\"\n",
    "\n",
    "for mov_stack in params.mov_stack:\n",
    "    fig, axes = plt.subplots(2,1, figsize=(10,10))\n",
    "    plt.suptitle(mov_stack)\n",
    "    for i, filter in enumerate(filters):\n",
    "        filterid = filter.ref\n",
    "        col = i % 2\n",
    "        for sta1, sta2 in get_station_pairs(db):\n",
    "            row = 0\n",
    "            plt.sca(axes[col])\n",
    "            for loc1 in sta1.locs():\n",
    "                s1 = \"%s.%s.%s\" % (sta1.net, sta1.sta, loc1)\n",
    "                for loc2 in sta2.locs():\n",
    "                    s2 = \"%s.%s.%s\" % (sta2.net, sta2.sta, loc2)\n",
    "                    # if s1 == s2:\n",
    "                        # continue\n",
    "                    try:\n",
    "                        dvv = compute_dvv(db, filterid, mov_stack, components=comp, params=params, pairs=[(s1,s2),])\n",
    "                    except:\n",
    "                        continue\n",
    "                    dvv.m *= -100\n",
    "                    dvv.m.plot(label=\"%s:%s\"%(s1,s2), ax=axes[col])\n",
    "                    plt.title(\"Filter %i (%.2f - %.2f Hz) - %s\" % (filterid, filter.low, filter.high, comp))\n",
    "            # plt.axvline(datetime.date(2014,6,21), c='r', ls='--')\n",
    "            plt.legend()\n",
    "            plt.xlabel(\"\")\n",
    "            plt.ylabel(\"dv/v (%)\")\n",
    "    plt.tight_layout()\n",
    "    plt.show()"
   ]
  },
  {
   "cell_type": "code",
   "execution_count": null,
   "id": "71fab1c5",
   "metadata": {},
   "outputs": [],
   "source": []
  }
 ],
 "metadata": {
  "kernelspec": {
   "display_name": "Python 3 (ipykernel)",
   "language": "python",
   "name": "python3"
  },
  "language_info": {
   "codemirror_mode": {
    "name": "ipython",
    "version": 3
   },
   "file_extension": ".py",
   "mimetype": "text/x-python",
   "name": "python",
   "nbconvert_exporter": "python",
   "pygments_lexer": "ipython3",
   "version": "3.11.8"
  }
 },
 "nbformat": 4,
 "nbformat_minor": 5
}
