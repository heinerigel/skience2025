{
 "cells": [
  {
   "cell_type": "markdown",
   "id": "77ab98b1-33d4-43cb-9d98-7a29feb7f089",
   "metadata": {},
   "source": [
    "# Setup and Imports\r\n",
    "\r\n",
    "Basic setup for seismic time series analysis:\r\n",
    "- matplotlib: For plotting (inline mode)\r\n",
    "- numpy: For numerical operations\r\n",
    "- obspy: For seismic data handling\r\n",
    "  - UTCDateTime: Time handling\r\n",
    "  - read: Data reading\r\n",
    "  - Stream: Seismic data container\r\n",
    "- obspy.signal.filter: For envelope calculation\r\n",
    "- pandas: For time series handling\r\n",
    "- glob: For file path pattern matching"
   ]
  },
  {
   "cell_type": "code",
   "execution_count": 10,
   "id": "08b88fbb",
   "metadata": {},
   "outputs": [],
   "source": [
    "%matplotlib inline\n",
    "import os\n",
    "import matplotlib.pyplot as plt\n",
    "import numpy as np\n",
    "from obspy import UTCDateTime, read, Stream\n",
    "import pandas as pd\n",
    "import glob\n",
    "import datetime\n",
    "from obspy.signal.filter import envelope\n",
    "import matplotlib.cm as cm"
   ]
  },
  {
   "cell_type": "markdown",
   "id": "2e0be4e2-fec0-4382-bfb8-105c196df9d7",
   "metadata": {},
   "source": [
    "# Data File Selection\r\n",
    "\r\n",
    "Locates and counts seismic data files:\r\n",
    "1. File pattern: 'DATA/SDS/2024/8N/HB04/EHZ.D/*'\r\n",
    "   - Network: 8N\r\n",
    "   - Station: HB04\r\n",
    "   - Channel: EHZ (Vertical high-frequency channel)\r\n",
    "   - Data structure: SDS (SeisComP Data Structure)\r\n",
    "2. Files are sorted chronologically\r\n",
    "3. Count available files using len()"
   ]
  },
  {
   "cell_type": "code",
   "execution_count": 21,
   "id": "5f5f70d4-6c94-41b3-b5f0-64a52708bfed",
   "metadata": {},
   "outputs": [],
   "source": [
    "# Path to where you have copied the DATA/ folder (that contains the SDS, RESP etc folders)\n",
    "DATA_PATH = \"DATA\""
   ]
  },
  {
   "cell_type": "code",
   "execution_count": 22,
   "id": "784c869d",
   "metadata": {},
   "outputs": [],
   "source": [
    "files = sorted(glob.glob(os.path.join(DATA_PATH, 'SDS', '2024', '8N', 'HB04', 'EHZ.D', '*')))"
   ]
  },
  {
   "cell_type": "code",
   "execution_count": 23,
   "id": "50d6254b",
   "metadata": {},
   "outputs": [
    {
     "data": {
      "text/plain": [
       "31"
      ]
     },
     "execution_count": 23,
     "metadata": {},
     "output_type": "execute_result"
    }
   ],
   "source": [
    "len(files)"
   ]
  },
  {
   "cell_type": "markdown",
   "id": "e0815082-6b32-4cdb-9a64-5fe9aa933318",
   "metadata": {},
   "source": [
    "# Load and Preprocess Seismic Data\r\n",
    "\r\n",
    "Loads and processes seismic data files:\r\n",
    "- Iterates through files (skipping first file)\r\n",
    "- For each file:\r\n",
    "  1. Reads data using ObsPy\r\n",
    "  2. Decimates by factor of 5 (reduces sampling rate)\r\n",
    "  3. Adds to traces list\r\n",
    "- Finally merges all traces into single Stream object\r\n",
    "\r\n",
    "Parameters:\r\n",
    "- decimati10 (we have enough with 20 Hz data for now)n factor: 5\r\n",
    "- filter: Applied during decimation (no_filter=False)"
   ]
  },
  {
   "cell_type": "code",
   "execution_count": null,
   "id": "ebc94361",
   "metadata": {},
   "outputs": [],
   "source": [
    "traces = []\n",
    "\n",
    "for file in files:\n",
    "    print(file)\n",
    "    try:\n",
    "        st = read(file)\n",
    "    except:\n",
    "        print(f\"Error reading {file}\")\n",
    "        continue\n",
    "    st.decimate(10, no_filter=False)\n",
    "    traces.append(st[0])\n",
    "    del(st)\n",
    "st = Stream(traces=traces)\n",
    "st.merge()\n"
   ]
  },
  {
   "cell_type": "markdown",
   "id": "43be41dd-8c84-4cbb-8d96-14c9dce5d8b7",
   "metadata": {},
   "source": [
    "# Generate Daily Seismic Plot\r\n",
    "\r\n",
    "Creates a publication-quality day plot of seismic data:\r\n",
    "Parameters:\r\n",
    "- interval: 60 minutes\r\n",
    "- format: PDF output\r\n",
    "- style settings:\r\n",
    "  - Color: black\r\n",
    "  - Line width: 0.5\r\n",
    "  - DPI: 100\r\n",
    "  - Size: 5000x10000\r\n",
    "  - Time format: \"YYYY-MM-DD HHh\"\r\n",
    "- Layout adjustments for margins\r\n",
    "- Output file: \"1hlines.pdf\""
   ]
  },
  {
   "cell_type": "code",
   "execution_count": null,
   "id": "26fabc2d",
   "metadata": {},
   "outputs": [],
   "source": [
    "outfile = \"1hlines.pdf\"\n",
    "st.plot(type='dayplot', interval=60, right_vertical_labels=False,\n",
    "        one_tick_per_line=True,\n",
    "        color=['black'], linewidth=0.5, show_y_UTC_label=False, \n",
    "         dpi=100, size=(5000,10000), y_labels_size=10, tick_format=\"%Y-%m-%d %Hh\",\n",
    "        subplots_adjust_left=0.03, subplots_adjust_right=0.98, subplots_adjust_top=0.98, \n",
    "        subplots_adjust_bottom=0.02, outfile=outfile)\n"
   ]
  },
  {
   "cell_type": "markdown",
   "id": "0de8a79f-e14b-4214-b59f-d7feab3b1129",
   "metadata": {},
   "source": [
    "# Prepare Data for Overview Visualization\r\n",
    "\r\n",
    "Two-step data preparation:\r\n",
    "1. Copy and merge stream:\r\n",
    "   - Interpolates gaps\r\n",
    "   - Further decimates by factor of 10\r\n",
    "2. Data transformation:\r\n",
    "   - Convert to absolute values\r\n",
    "   - Clip values between 0 and 1e5\r\n",
    "   - Reduces noise and extreme values"
   ]
  },
  {
   "cell_type": "code",
   "execution_count": null,
   "id": "e8c78d95",
   "metadata": {},
   "outputs": [],
   "source": [
    "st2 = st.copy()\n",
    "st2 = st2.merge(method=1, fill_value=\"interpolate\")\n",
    "st2.decimate(10, no_filter=True)"
   ]
  },
  {
   "cell_type": "code",
   "execution_count": null,
   "id": "82576f36",
   "metadata": {},
   "outputs": [],
   "source": [
    "st2[0].data = np.abs(st2[0].data)\n",
    "st2[0].data = np.clip(st2[0].data, 0, 1e5)"
   ]
  },
  {
   "cell_type": "markdown",
   "id": "95dc9c85-465d-4b08-adc3-50df22d3a61d",
   "metadata": {},
   "source": [
    "# Create Overview Plot with Weekend Highlighting\r\n",
    "\r\n",
    "Generates comprehensive time series visualization:\r\n",
    "Parameters:\r\n",
    "- Figure size: 30x20 inches\r\n",
    "- Plot features:\r\n",
    "  - Black line for seismic data (width 0.5)\r\n",
    "  - Green shaded weekends (Saturday-Monday)\r\n",
    "  - Daily tick marks with dates\r\n",
    "  - Automatic date formatting\r\n",
    "- Output: \"groundmotion_continuous_with_weekends.pdf\"\r\n",
    "\r\n",
    "This plot provides a complete overview of amplitudemic activity with weekend periods highlighted for context."
   ]
  },
  {
   "cell_type": "code",
   "execution_count": null,
   "id": "791d1ee2",
   "metadata": {},
   "outputs": [],
   "source": [
    "fig = plt.figure(figsize=(30,20))\n",
    "tr = st2[0]\n",
    "plt.plot(tr.times(\"matplotlib\"), tr.data, c='k', lw=0.5)\n",
    "dr = pd.date_range(tr.stats.starttime.date, tr.stats.endtime.date, freq=\"W-SAT\")\n",
    "for d in dr:\n",
    "    plt.axvspan(d, d+datetime.timedelta(days=2), zorder=-1, alpha=0.5, ec=\"none\", fc=\"lightgreen\")\n",
    "\n",
    "dr = pd.date_range(tr.stats.starttime.date, tr.stats.endtime.date, freq=\"D\")\n",
    "plt.xticks(list(dr), [d.strftime(\"%Y-%m-%d\") for d in list(dr)])\n",
    "\n",
    "plt.margins(0)\n",
    "\n",
    "plt.ylim(0,1e4)\n",
    "fig.autofmt_xdate()\n",
    "plt.savefig(\"groundmotion_continuous_with_weekends.pdf\")"
   ]
  },
  {
   "cell_type": "code",
   "execution_count": null,
   "id": "60a632fd-ee28-40f3-a37e-a2bf95995a39",
   "metadata": {},
   "outputs": [],
   "source": []
  }
 ],
 "metadata": {
  "kernelspec": {
   "display_name": "Python 3 (ipykernel)",
   "language": "python",
   "name": "python3"
  },
  "language_info": {
   "codemirror_mode": {
    "name": "ipython",
    "version": 3
   },
   "file_extension": ".py",
   "mimetype": "text/x-python",
   "name": "python",
   "nbconvert_exporter": "python",
   "pygments_lexer": "ipython3",
   "version": "3.11.8"
  }
 },
 "nbformat": 4,
 "nbformat_minor": 5
}
