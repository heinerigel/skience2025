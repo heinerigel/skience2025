{
 "cells": [
  {
   "cell_type": "markdown",
   "metadata": {},
   "source": [
    "\n",
    "# Compute the H/V spectral ratio from the imaginary part of the CCFs\n"
   ]
  },
  {
   "cell_type": "markdown",
   "metadata": {},
   "source": [
    "Import & getting the data from the computed autocorrelations (ZZ, EE, NN)\n",
    "\n"
   ]
  },
  {
   "cell_type": "code",
   "execution_count": null,
   "metadata": {
    "collapsed": false,
    "jupyter": {
     "outputs_hidden": false
    }
   },
   "outputs": [],
   "source": [
    "import os\n",
    "\n",
    "import matplotlib.pyplot as plt\n",
    "import numpy as np\n",
    "import pandas as pd\n",
    "from pandas.plotting import register_matplotlib_converters\n",
    "import datetime\n",
    "register_matplotlib_converters()\n",
    "\n",
    "plt.style.use(\"ggplot\")\n",
    "\n",
    "from msnoise.api import connect, get_results, build_movstack_datelist, get_params, get_t_axis, xr_get_ccf\n",
    "\n",
    "\n",
    "# connect to the database\n",
    "db = connect()\n",
    "\n",
    "# Obtain a list of dates between ``start_date`` and ``enddate``\n",
    "start, end, datelist = build_movstack_datelist(db)\n",
    "\n",
    "# Get the list of parameters from the DB:\n",
    "params = get_params(db)\n",
    "\n",
    "# Get the time axis for plotting the CCF:\n",
    "taxis = get_t_axis(db)\n",
    "\n",
    "# Get the first mov_stack configured:\n",
    "mov_stack = params.mov_stack[0]\n",
    "\n",
    "netstaloc = \"8N.HB04.00\"\n",
    "\n",
    "# Get the results for two station, filter id=1, ZZ component, mov_stack=1 and the results as a 2D array:\n",
    "ZZ = xr_get_ccf(netstaloc, netstaloc, \"ZZ\", 1, mov_stack, taxis, format=\"dataframe\")\n",
    "EE = xr_get_ccf(netstaloc, netstaloc, \"EE\", 1, mov_stack, taxis, format=\"dataframe\")\n",
    "NN = xr_get_ccf(netstaloc, netstaloc, \"NN\", 1, mov_stack, taxis, format=\"dataframe\")"
   ]
  },
  {
   "cell_type": "markdown",
   "metadata": {},
   "source": [
    "Checking the data has the same time base (index) and joining\n",
    "\n"
   ]
  },
  {
   "cell_type": "code",
   "execution_count": null,
   "metadata": {
    "collapsed": false,
    "jupyter": {
     "outputs_hidden": false
    }
   },
   "outputs": [],
   "source": [
    "r = \"1D\"\n",
    "rZZ = ZZ.resample(r).mean()\n",
    "rEE = EE.resample(r).mean()\n",
    "rNN = NN.resample(r).mean()\n",
    "\n",
    "merged = pd.concat({'ZZ': rZZ, 'EE': rEE, 'NN': rNN}, axis=0)\n",
    "merged.index.names = ['channel', 'date']\n",
    "\n",
    "# Swap the levels of the MultiIndex\n",
    "result = merged.swaplevel('channel', 'date').sort_index(level='date') #.iloc[:500]"
   ]
  },
  {
   "cell_type": "markdown",
   "metadata": {},
   "source": [
    "Helper functions\n",
    "\n"
   ]
  },
  {
   "cell_type": "code",
   "execution_count": null,
   "metadata": {
    "collapsed": false,
    "jupyter": {
     "outputs_hidden": false
    }
   },
   "outputs": [],
   "source": [
    "def get_imag(d, fs):\n",
    "    NFFT = 1024*32\n",
    "    iX = np.imag(np.fft.fft(d, n=NFFT)[:NFFT//2])\n",
    "    freqs = np.fft.fftfreq(NFFT, d=1/fs)[:NFFT//2]\n",
    "\n",
    "    return freqs, iX"
   ]
  },
  {
   "cell_type": "markdown",
   "metadata": {},
   "source": [
    "Doing the job !\n",
    "\n"
   ]
  },
  {
   "cell_type": "code",
   "execution_count": null,
   "metadata": {
    "collapsed": false,
    "jupyter": {
     "outputs_hidden": false
    }
   },
   "outputs": [],
   "source": [
    "HVSRs = {}\n",
    "for date, group in result.groupby(level='date'):\n",
    "    print(f\"Date: {date}\")\n",
    "    group= group.droplevel(0)\n",
    "    try:\n",
    "        f, iZZ = get_imag(group.loc[\"ZZ\"].values, 200)\n",
    "        f, iEE = get_imag(group.loc[\"EE\"].values, 200)\n",
    "        f, iNN = get_imag(group.loc[\"NN\"].values, 200)\n",
    "    except:\n",
    "        continue\n",
    "    hvsr = np.sqrt((iEE+iNN)/iZZ)\n",
    "    HVSRs[date] = hvsr\n",
    "\n",
    "HVSR = pd.DataFrame(HVSRs, index=f)\n",
    "X = HVSR.copy().fillna(0.0)\n",
    "X = X.T.resample(r).mean().T"
   ]
  },
  {
   "cell_type": "markdown",
   "metadata": {},
   "source": [
    "Plotting\n",
    "\n"
   ]
  },
  {
   "cell_type": "code",
   "execution_count": null,
   "metadata": {
    "collapsed": false,
    "jupyter": {
     "outputs_hidden": false
    }
   },
   "outputs": [],
   "source": [
    "plt.subplots(figsize=(8,10))\n",
    "plt.pcolormesh(X.index, X.columns, X.T, rasterized=True, vmax=5)\n",
    "plt.xlabel(\"Frequency (Hz)\")\n",
    "plt.ylabel(\"Date\")\n",
    "plt.grid()\n",
    "plt.xlim(1,10)\n",
    "plt.show()"
   ]
  },
  {
   "cell_type": "markdown",
   "metadata": {},
   "source": [
    "Plotting & zooming around 1-4 Hz\n",
    "\n"
   ]
  },
  {
   "cell_type": "code",
   "execution_count": null,
   "metadata": {
    "collapsed": false,
    "jupyter": {
     "outputs_hidden": false
    }
   },
   "outputs": [],
   "source": [
    "plt.subplots(figsize=(10,10))\n",
    "plt.pcolormesh(X.index, X.columns, X.T, rasterized=True, vmax=3)\n",
    "plt.xlabel(\"Frequency (Hz)\")\n",
    "plt.ylabel(\"Date\")\n",
    "plt.grid()\n",
    "plt.xlim(2,3)\n",
    "plt.show()"
   ]
  },
  {
   "cell_type": "markdown",
   "metadata": {},
   "source": [
    "Plotting the HVSR curve\n",
    "\n"
   ]
  },
  {
   "cell_type": "code",
   "execution_count": null,
   "metadata": {
    "collapsed": false,
    "jupyter": {
     "outputs_hidden": false
    }
   },
   "outputs": [],
   "source": [
    "plt.subplots(figsize=(10,8))\n",
    "hvsr = X.mean(axis=1)\n",
    "plt.semilogx(hvsr.index, hvsr)\n",
    "plt.axvline(0.27, c=\"r\", ls=\"--\")\n",
    "plt.show()\n",
    "\n",
    "\n",
    "#EOF"
   ]
  },
  {
   "cell_type": "code",
   "execution_count": null,
   "metadata": {},
   "outputs": [],
   "source": []
  }
 ],
 "metadata": {
  "kernelspec": {
   "display_name": "Python 3 (ipykernel)",
   "language": "python",
   "name": "python3"
  },
  "language_info": {
   "codemirror_mode": {
    "name": "ipython",
    "version": 3
   },
   "file_extension": ".py",
   "mimetype": "text/x-python",
   "name": "python",
   "nbconvert_exporter": "python",
   "pygments_lexer": "ipython3",
   "version": "3.11.8"
  }
 },
 "nbformat": 4,
 "nbformat_minor": 4
}
