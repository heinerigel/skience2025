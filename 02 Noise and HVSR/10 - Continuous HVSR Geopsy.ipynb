{
 "cells": [
  {
   "cell_type": "markdown",
   "id": "33c9e7e7",
   "metadata": {},
   "source": [
    "# 10 Minionology: HVSR with seismic nodes/stations\n",
    "### Skience2025 practical on HVSR, node installation, applications, Geopsy, continuous data analysis\n",
    "\n",
    "##### Authors:\n",
    "* Koen Van Noten ([@KoenVanNoten](https://github.com/KoenVanNoten))\n",
    "* Thomas Lecocq ([@seismotom](https://github.com/ThomasLecocq))\n",
    "\n",
    "##### Introduction:\n",
    "Three-component __seismic nodes__ are conquering the world these days as lightweight smart seismic sensors. This notebook provides a guideline how to handle seismic node data and perform H/V spectral ratio analysis of ambient noise (mHVSR of HVSRN) recorded with seismic nodes. We'll show you some methods:\n",
    "* how to perform mHVSR using the Geopsy software manually\n",
    "* how to do the same exercise automatically \n",
    "* and we'll open the discussion towards an automatic solution. \n",
    "\n",
    "SmartSolo 3D Nodes (https://smartsolo.com/cp.php?id=3) are easy to deploy, have long battery life (2-4 weeks), are modular to easily replace battery and are fastly charged. The picture below shows the modular design of the IGU-16HR 3C series where 3C sensors are installed on a standard battery pack (usually used with the 1C nodes). The tripod feet allow them to be used in urban settings. As they resemble to the Minions, we batised _data analysis with nodes_ as __Minionology__. We further refer to Zeckra et al. (preprint) to a technical introduction on the performance of the IGU-16HR 3C series and to Van Noten et al. (2022, 2020) for Virtual Borehole information and codes.\n",
    "\n",
    "##### References:\n",
    "* Van Noten, K., Lecocq, T., Goffin, C., Meyvis, B., Molron, J., Debacker, T.N. & Devleeschouwer, X. 2022. Brussels’ bedrock paleorelief from borehole-controlled powerlaws linking polarised H/V resonance frequencies and sediment thickness. _Journal of Seismology_ 26, 35-55. DOI: https://doi.org/10.1007/s10950-021-10039-8 pdf: https://publi2-as.oma.be/record/5626/files/2022_VanNotenetal_HVSR_Powerlaw_Brussels.pdf \n",
    "* Van Noten, K, Lecocq, Buddha Power, B. (2020). HVSR to Virtual Borehole (1.0). Zenodo. https://doi.org/10.5281/zenodo.4276310\n",
    "* Zeckra, M., Van Noten, K., Lecocq, T. Preprint. Sensitivity, Accuracy and Limits of the Lightweight Three-Component SmartSolo Geophone Sensor (5 Hz) for Seismological Applications. Preprint on: https://doi.org/10.31223/X5F073\n",
    "\n",
    "<img src=\"Minions Seismology.be.jpg\" width=600></img>"
   ]
  },
  {
   "cell_type": "code",
   "execution_count": null,
   "id": "ff5fa00f",
   "metadata": {},
   "outputs": [],
   "source": [
    "import matplotlib.gridspec as gridspec\n",
    "import matplotlib.dates as mdates\n",
    "import os\n",
    "import glob\n",
    "from obspy import read\n",
    "import pandas as pd\n",
    "import datetime\n",
    "import matplotlib.pyplot as plt\n",
    "import matplotlib.ticker as mticker\n",
    "import numpy as np\n",
    "from matplotlib.dates import DateFormatter, DayLocator, HourLocator\n",
    "from matplotlib.ticker import MaxNLocator, StrMethodFormatter, NullFormatter\n",
    "import pytz\n",
    "import timeit\n",
    "import matplotlib.ticker as ticker\n",
    "\n",
    "# use ipython notebook in a wider screen\n",
    "from IPython.display import display, HTML\n",
    "display(HTML(\"<style>:root { --jp-notebook-max-width: 100% !important; }</style>\"))\n",
    "\n",
    "# run the HVSR Minionology function notebook\n",
    "%run 00_HVSR_Minionology_definitions.ipynb"
   ]
  },
  {
   "cell_type": "code",
   "execution_count": null,
   "id": "bb9db0aa-6978-4332-b74f-20e2a33b454e",
   "metadata": {},
   "outputs": [],
   "source": [
    "# Path to where you have copied the DATA/ folder (that contains the SDS, RESP etc folders)\n",
    "DATA_PATH = \"DATA\""
   ]
  },
  {
   "cell_type": "markdown",
   "id": "4dffd2f1",
   "metadata": {},
   "source": [
    "## Step 1. Manual process of ambient noise data with Geopsy\n",
    "Before processing any data I will showcase a manual data analysis in Geopsy. Credits to Marc Wathelet & team (ISTerre Grenoble) for years of Geopsy coding, development and improvement. \n",
    "\n",
    "We will first manually process the seismic data in Geopsy using the _HV module_ and following standard processing steps. In the Geopsy H/V module use following parameters (also explained here: https://www.geopsy.org/wiki/index.php/H/V_spectral_ratio). For a deep basin we need e.g.\n",
    "* __Length__: 360s\n",
    "* __Overlap__: 50%\n",
    "* __Relative treshhold__: 40%\n",
    "* __Taper__: 5% Tukey\n",
    "* __Konno-Omachi smoothing__: log 20%\n",
    "* __Squared Average__\n",
    "* __Output__: 0.10Hz - 100 Hz\n",
    "* __Step Count__: 2000\n",
    "\n",
    "After computation, manually clean the H/V curve by _Reject time windows_ (right click on the graph) and select those curves that deviate from the mean curve. Then recompute the H/V curve by pressing the black arrow next to _select_ -> _clear_ -> _Remove grayed_ and press _Start_ again.\n",
    "\n",
    "To save the .HV results do a _Tools_ -> _Save Results_ and save it in the  __Manual_Analysed__ folder"
   ]
  },
  {
   "cell_type": "markdown",
   "id": "33cef764",
   "metadata": {},
   "source": [
    "## Step 2. Auto_process ambient noise data with Geopsy module"
   ]
  },
  {
   "cell_type": "markdown",
   "id": "4cecc3e7-a0ae-47c7-b787-770cd97e751b",
   "metadata": {},
   "source": [
    "In this part we will Auto_process mseed data of 4 sensors using the Geopsy command line.\n",
    "* First select the HVSR params to process the data. This is similar as the manual processing in Geopsy"
   ]
  },
  {
   "cell_type": "code",
   "execution_count": null,
   "id": "63eb00e4-184a-4627-809e-6106b210537d",
   "metadata": {},
   "outputs": [],
   "source": [
    "##### Give location of geopsy\n",
    "# geopsy_exe = \"geopsy-hv\" \"\"\" FOR Linux\n",
    "geopsy_exe = 'C:/Users/koenvn/geopsypack-win64-3.4.2/bin/geopsy-hv.exe' # For Windows - locate the Geopsypack.win64-3.4.2 folder"
   ]
  },
  {
   "cell_type": "markdown",
   "id": "d7c636b0-effe-45e7-8a63-241ecd98a5ee",
   "metadata": {},
   "source": [
    "* Run the command line below and define the options. Results will be stores in the Auto_process folder\n",
    "\n",
    "#### HV PARAMS\n",
    "* process_len = 3600. # overall processing lengths[s] standard 1 hour - (time for which we compute the total HV-curve)\n",
    "* time_window_len = 360. # window length for each HV curve\n",
    "* win_overlap = 50 # % overlapping windows\n",
    "* threshold_pct = 0.4 # percentage of treshhold to acccept\n",
    "* KO = 0.2 # Konno_Omachi Smoothing (in digits)\n",
    "* min_freq = 0.1 # lower frequency bound [Hz]\n",
    "* max_freq = 100 # upper frequency bound# upper frequency bound [Hz]\n",
    "* N_samples = 2000 # Nr of SAMPLES_NUMBER_FREQUENCY={S_N_FREQ}\n",
    "\n",
    "#### POLARISATION PARAMS\n",
    "* azimuth = 0 ##HORIZONTAL_AZIMUTH is used only when HORIZONTAL_COMPONENTS== 'Azimuth'\n",
    "* want_rotation = False # # in case you want run the HV rotate module\n",
    "* rotation_steps = 10 # [degree]"
   ]
  },
  {
   "cell_type": "code",
   "execution_count": null,
   "id": "1a55f444-aba4-4177-b08c-8bf871f6c5ee",
   "metadata": {},
   "outputs": [],
   "source": [
    "%run Auto_process_HV.py -h"
   ]
  },
  {
   "cell_type": "code",
   "execution_count": null,
   "id": "e3faa8d0-d40b-4e08-992d-687066243cc2",
   "metadata": {},
   "outputs": [],
   "source": [
    "%run Auto_process_HV.py -p 3600 -w 360 -o 50 -t 0.99 -k 0.2 -l 0.1 -u 100 -n 2000"
   ]
  },
  {
   "cell_type": "markdown",
   "id": "7d8f3f0c",
   "metadata": {},
   "source": [
    "## Step 3. Grab the processed .hv data in the Analysed_Skience folder.\n",
    "\n",
    "This function reads all .hv data and saves the information in a csv database file as *NODE-NAME*_HVSR_all_mindate_maxdate\n",
    "\n",
    "* first try your own processing in the Analysed_Skience25 folder"
   ]
  },
  {
   "cell_type": "code",
   "execution_count": null,
   "id": "996d2c89",
   "metadata": {
    "scrolled": true
   },
   "outputs": [],
   "source": [
    "### Get the HV files from the continuous analysis\n",
    "## Give folder where to read the Project HVSR data, later we read it from the HVSR database\n",
    "base_folder = os.getcwd()\n",
    "\n",
    "# Give folder where processed HV data are stored\n",
    "data_folder = r'Analysed_Skience25' #data computed during SKIENCE\n",
    "os.makedirs(data_folder, exist_ok=True)\n",
    "\n",
    "# Give project name (can be whatever) and time zone\n",
    "Project = 'SKIENCE2025'\n",
    "time_zone = 'Europe/Paris'\n",
    "\n",
    "## Want to find the f0 throughout the whole processed HVSR curve? Then freq_lim = False\n",
    "## If True, give frequency limits between you want to find the f0\n",
    "freq_lim = False\n",
    "ylim_min , ylim_max = 0.1, 0.4\n",
    "\n",
    "## The SmartSolonodes also provide temperature data. \n",
    "## If you want to plot these later on top of HVSR data, give the project temperature log and store it in the project folder.\n",
    "temperature = False\n",
    "temp_log = 'tbl_temperature_log.csv'\n",
    "    \n",
    "###################################################################\n",
    "# MAIN\n",
    "###################################################################\n",
    "temp_log = os.path.join(base_folder, temp_log)\n",
    "print(data_folder)\n",
    "grab_continuous_HV()"
   ]
  },
  {
   "cell_type": "markdown",
   "id": "b45599ad",
   "metadata": {},
   "source": [
    "## Step 4. Explore the continuous HVSR from one day\n",
    "\n",
    "The code in below explores the HVSR results. It will read the hourly .HV processed data and plots it with time. You can zoom in into the frequency band of interest and play with the start- and enddate. \n",
    "\n",
    "* first plot your own analysis of 30 January 2024\n",
    "\n",
    "\n",
    "* **Question 1: how many time you need to find the resonance of a building: hours? days? months?**\n",
    "\n",
    "* **Question 2: how many time you need to find the resonance frequency of the soil: hours? days? months?**\n",
    "\n",
    "* **Question 3: Can you see the resonance frequency of the soil at the rooftop in HB01, HB02, HB03 ?**\n",
    "\n",
    "* **Question 4: Can you see the resonance of the building on the basefloor in HB04 ?**\n"
   ]
  },
  {
   "cell_type": "code",
   "execution_count": null,
   "id": "fdace850",
   "metadata": {},
   "outputs": [],
   "source": [
    "# Give project name and time zone\n",
    "Project = 'SKIENCE2025' #name it into whatever you want\n",
    "time_zone = 'Europe/Paris'\n",
    "base_folder = os.getcwd()\n",
    "data_folder = r'Analysed_Skience25' # this is the folder for the test results of 20230501\n",
    "\n",
    "###### activating the folder below browser through 2 yr of data\n",
    "#data_folder = r'Analysed'\n",
    "\n",
    "#Plot between dates Format %YYYY-MM-DD hh:00:00 \n",
    "start_date = '2024-01-30 00:00:00'\n",
    "end_date = '2024-02-01 23:00:00'\n",
    "\n",
    "# Want to plot local or UTC time?\n",
    "time = 'Local_Time'\n",
    "#time = 'UTC'\n",
    "\n",
    "# want to zoom on the certain frequency and amplitude range?\n",
    "zoom = True\n",
    "#### frequency limit\n",
    "ylim_min , ylim_max = 0.1, 100\n",
    "### amplitude limits\n",
    "xlim_min, xlim_max = 0, 10\n",
    "\n",
    "## Wan't the amplitudes in logscale ?\n",
    "log_xscale = False\n",
    "\n",
    "# the figure will be saved, don't plot it as well (slows down the process)\n",
    "plot = False\n",
    "\n",
    "# thickness of the HV line\n",
    "HV_line_thickness = 10\n",
    "\n",
    "################\n",
    "# MAIN\n",
    "################\n",
    "plot_continuous_HV()\n",
    "\n",
    "print('job done')"
   ]
  },
  {
   "cell_type": "markdown",
   "id": "faec56a9-d62f-4383-85e4-cb9646b9b719",
   "metadata": {},
   "source": [
    "## STep 5. now explore one month of HV data (January 2024)"
   ]
  },
  {
   "cell_type": "code",
   "execution_count": null,
   "id": "2722109d-143f-4a96-84ee-55908336acb8",
   "metadata": {},
   "outputs": [],
   "source": [
    "# Give project name and time zone\n",
    "Project = 'SKIENCE2025' #name it into whatever you want\n",
    "time_zone = 'Europe/Paris'\n",
    "base_folder = os.getcwd()\n",
    "data_folder = os.path.join(DATA_PATH, 'Analysed_Server') # this is the folder for the test results of 20230501\n",
    "\n",
    "#Plot between dates Format %YYYY-MM-DD hh:00:00 \n",
    "start_date = '2024-01-01 01:00:00'\n",
    "end_date = '2024-01-02 23:00:00'\n",
    "\n",
    "# Want to plot local or UTC time?\n",
    "time = 'Local_Time'\n",
    "#time = 'UTC'\n",
    "\n",
    "# want to zoom on the certain frequency and amplitude range?\n",
    "zoom = True\n",
    "#### frequency limit\n",
    "ylim_min , ylim_max = 0.1, 100\n",
    "### amplitude limites\n",
    "xlim_min, xlim_max = 0, 30\n",
    "\n",
    "## Wan't the amplitudes in logscale ?\n",
    "log_xscale = False\n",
    "\n",
    "# the figure will be saved, don't plot it as well (slows down the process)\n",
    "plot = False\n",
    "\n",
    "# thickness of the HV line\n",
    "HV_line_thickness = 5\n",
    "\n",
    "################\n",
    "# MAIN\n",
    "################\n",
    "plot_continuous_HV()\n",
    "\n",
    "print('job done')"
   ]
  },
  {
   "cell_type": "markdown",
   "id": "dd3e2ecd",
   "metadata": {},
   "source": [
    "## Step 5: Plot a Virtual Borehole from the 2 year mean HVSR curve of HB04\n",
    "\n",
    "You can use a fixed Vs in center of Grenoble: 600 - 750 m/s\n",
    "\n",
    "or if you find a Powerlaw relation applicable for deep basins/Grenoble basin, change the a and b values"
   ]
  },
  {
   "cell_type": "code",
   "execution_count": null,
   "id": "390fecf2",
   "metadata": {},
   "outputs": [],
   "source": [
    "Project = 'SKIENCE2025'\n",
    "HVSR_Project = 'Woodbuilding Grenoble'\n",
    "base_folder = r''\n",
    "\n",
    "# Give folder where processed HV data are stored\n",
    "data_folder = os.path.join(DATA_PATH, 'Analysed_Server')\n",
    "# data_folder = 'Analysed'\n",
    "ID = 'HB04'\n",
    "Z = 216  #surface height\n",
    "\n",
    "# Choose if you want to use the Geopsy exported values or want to interpolate between 0 and 15000 frequency values\n",
    "# See annotations in \"get_interpolated_values_from_HV for details\n",
    "interpolate = False\n",
    "\n",
    "# Choose if the amplitude on the frequency-amplitude plot needs to be selected automatically or manually\n",
    "auto_amplitude = True\n",
    "manual_amplitude = 10\n",
    "\n",
    "# Choose between which frequencies you want to plot. Default = between 0.5 Hz and 50 Hz\n",
    "freq = [0.1, 100]\n",
    "\n",
    "## f0 needs to be converted to depth by: \n",
    "\n",
    "## 1. by using a Powerlaw relation between resonance frequency and depth according to the formula: depth = a * power(f0, b)\n",
    "## a & b values of the Regional powerlaw relation (R') of Van Noten et al. 2022. (applicable for Brussels)\n",
    "\n",
    "#depth_conversion = 'powerlaw'\n",
    "a_pw = 88.631     # a value\n",
    "b_pw = -1.683    # b value\n",
    "\n",
    "## or by using a fixed velocity\n",
    "depth_conversion = 'Vs'\n",
    "Vs = 700 # m/s\n",
    "\n",
    "\n",
    "###################################################################\n",
    "HV_file = os.path.join(data_folder, '8N_%s_HVSR_mean.hv'%ID)\n",
    "print(HV_file)\n",
    "HV_to_virtual_borehole(HV_file, ID, Z, 'f0_win', Project)\n",
    "#save it by node name\n",
    "savefile = os.path.join(data_folder, '%s_Virtual_Borehole.png'%ID)\n",
    "plt.savefig(savefile, format= 'png', dpi = 300)"
   ]
  },
  {
   "cell_type": "markdown",
   "id": "29154493",
   "metadata": {},
   "source": [
    "## Step 6: Make a polar plot from the geopsy HV rotate module output .grid file \n",
    "Go back to Geopsy and activate the HV rotate module. Save the results.\n",
    "\n",
    "The Geopsy output is not intuitive as polar data are plotted in an __X__ (Frequency) - __Y__ (Azimuth) diagram in stead of a 360° diagram. The script in below loads one or all Geopsy HV rotate module .grid files and replots it into a more understandable polar plot. It will search the azimuth at which the maximum resonance frequency occurs. \n",
    "\n",
    "In below, first several options are given to plot the HV polar plot, then the polar plot is made.\n",
    "Following data is returned:\n",
    "* __A_max__: maximum amplitude at resonance frequency deduced from the HVSR polarisation analysis \n",
    "* __max_freq__: Resonance frequency at A_max\n",
    "* __max_Azi__: Azimuth at which resonance frequency is maximum (deduced from polarisation analysis)\n",
    "* __A_min__: minimum amplitude at resonance frequency deduced from the HVSR polarisation analysis \n",
    "* __min_freq__:  Azimuth at which resonance frequency is minimal (deduced from polarisation analysis)"
   ]
  },
  {
   "cell_type": "code",
   "execution_count": null,
   "id": "2f489d70",
   "metadata": {},
   "outputs": [],
   "source": [
    "plot_polarisation_data?"
   ]
  },
  {
   "cell_type": "code",
   "execution_count": null,
   "id": "8735a190",
   "metadata": {},
   "outputs": [],
   "source": [
    "#€ give HV.grid file\n",
    "data_folder = os.path.join(DATA_PATH, 'Analysed_Server')\n",
    "# data_folder = 'Analysed'\n",
    "ID = 'HB04'\n",
    "\n",
    "# If freq_range = True, search for the maximum azimuthal values in a certain frequency range \n",
    "# If freq_range = False, code will take the max range in the .grid file\n",
    "freq_range = False\n",
    "f_range = [1.15, 1.4]\n",
    "\n",
    "# Wanna plot the polarisation figure?\n",
    "plot_fig = True\n",
    "\n",
    "# Wanna save the polarisation figure?\n",
    "save_fig = True  # save results to fig (default = png)\n",
    "\n",
    "# if auto_freq, frequency will be chosen automatically around f0\n",
    "# if false, give the range of the frequency\n",
    "auto_freq = False\n",
    "limfreq_min = 0.1\n",
    "limfreq_max = 0.4\n",
    "\n",
    "max_amplitude = 10\n",
    "\n",
    "# spacing of the ticks on the frequency distribution\n",
    "steps = 0.1\n",
    "\n",
    "#######################\n",
    "HV_file = os.path.join(data_folder, '8N_%s.hv.grid'%ID)\n",
    "print(HV_file)\n",
    "out_folder = data_folder\n",
    "# plot it\n",
    "A_max, max_freq, max_Azi,A_min, min_freq, min_Azi = plot_polarisation_data(HV_file, ID, limfreq_min, limfreq_max, max_amplitude)"
   ]
  },
  {
   "cell_type": "code",
   "execution_count": null,
   "id": "2b7f25c2-a1f9-47fd-843a-06d0b7568c5e",
   "metadata": {},
   "outputs": [],
   "source": []
  }
 ],
 "metadata": {
  "kernelspec": {
   "display_name": "Python 3 (ipykernel)",
   "language": "python",
   "name": "python3"
  },
  "language_info": {
   "codemirror_mode": {
    "name": "ipython",
    "version": 3
   },
   "file_extension": ".py",
   "mimetype": "text/x-python",
   "name": "python",
   "nbconvert_exporter": "python",
   "pygments_lexer": "ipython3",
   "version": "3.11.8"
  }
 },
 "nbformat": 4,
 "nbformat_minor": 5
}
