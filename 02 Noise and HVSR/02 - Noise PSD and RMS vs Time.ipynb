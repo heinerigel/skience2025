{
 "cells": [
  {
   "cell_type": "markdown",
   "metadata": {},
   "source": [
    "# Ground Motion Displacement RMS vs Time\n",
    "\n",
    "*an example simple tutorial for getting seismic data, computing the power spectral densities, extracting the RMS and plotting*\n",
    "\n",
    "Required:\n",
    "\n",
    "- python\n",
    "- obspy (and its dependencies)\n",
    "- pandas\n",
    "- jupyter\n",
    "- notebook\n",
    "- tqdm\n",
    "\n",
    "this should be easy to set up in a conda env: ``conda create -c conda-forge -n covid python=3.7 obspy pandas jupyter notebook tqdm``\n",
    "\n",
    "Author: Thomas Lecocq @seismotom, Fred Massin @fmassin, Claudio Satriano @claudiodsf"
   ]
  },
  {
   "cell_type": "markdown",
   "metadata": {},
   "source": [
    "# Import Required Libraries\r\n",
    "\r\n",
    "Sets up the Python environment with:\r\n",
    "- Basic utilities: datetime, os, glob\r\n",
    "- Data processing: numpy, pandas\r\n",
    "- Visualization: matplotlib (configured for Adobe Illustrator compatibility)\r\n",
    "- Seismic processing: obspy components (UTCDateTime, read, read_inventory, PPSD)\r\n",
    "- Progress tracking: tqdm\r\n",
    "- Custom utilities: seismosocialdistancing module\r\n",
    "\r\n",
    "Also enables automatic module reloading for development."
   ]
  },
  {
   "cell_type": "code",
   "execution_count": null,
   "metadata": {
    "ExecuteTime": {
     "end_time": "2020-05-08T06:46:13.572490Z",
     "start_time": "2020-05-08T06:45:59.783138Z"
    }
   },
   "outputs": [],
   "source": [
    "import datetime\n",
    "import os\n",
    "from glob import glob\n",
    "\n",
    "import matplotlib\n",
    "matplotlib.rcParams['pdf.fonttype'] = 42  # to edit text in Illustrator\n",
    "import matplotlib.pyplot as plt\n",
    "import matplotlib.ticker as ticker\n",
    "import matplotlib.patheffects as pe\n",
    "import numpy as np\n",
    "import pandas as pd\n",
    "import tqdm\n",
    "import warnings\n",
    "\n",
    "from obspy import UTCDateTime, read, read_inventory\n",
    "from obspy.clients.fdsn import Client\n",
    "from obspy.clients.fdsn.client import FDSNNoDataException\n",
    "from obspy.signal import PPSD\n",
    "from msnoise.api import psd_ppsd_to_dataframe\n",
    "\n",
    "%load_ext autoreload\n",
    "%autoreload 2\n",
    "import seismosocialdistancing"
   ]
  },
  {
   "cell_type": "code",
   "execution_count": null,
   "metadata": {},
   "outputs": [],
   "source": [
    "# Path to where you have copied the DATA/ folder (that contains the SDS, RESP etc folders)\n",
    "DATA_PATH = \"DATA\""
   ]
  },
  {
   "cell_type": "markdown",
   "metadata": {},
   "source": [
    "# Configuration Parameters\r\n",
    "\r\n",
    "Sets up analysis parameters:\r\n",
    "- Time period: 2024-01-01 to 2024-01-31\r\n",
    "- Station details:\r\n",
    "  - Network: 8N\r\n",
    "  - Station: HB04\r\n",
    "  - Location: 00\r\n",
    "  - Channel: EHN\r\n",
    "- Additional settings:\r\n",
    "  - Dataset name: \"example\"\r\n",
    "  - Timezone: Europe/Brussels\r\n",
    "  - Site description: \"in Grenoble (FR)\"\r\n",
    "- Event markers:\r\n",
    "  - New Year: 2024-01-01\r\n",
    "  - Half: 2024-01-15\r\n",
    "  - End of Record: 2024-01-31"
   ]
  },
  {
   "cell_type": "code",
   "execution_count": null,
   "metadata": {
    "ExecuteTime": {
     "end_time": "2020-05-08T06:46:14.089189Z",
     "start_time": "2020-05-08T06:46:13.580338Z"
    }
   },
   "outputs": [],
   "source": [
    "# Make sure you take at least a full week (>=7 days) before the first \"ban\"\n",
    "start = UTCDateTime(\"2024-01-01\")\n",
    "# Leaving UTCDateTime() empty means \"now\", but let's first compute 1 week:\n",
    "end = UTCDateTime(\"2024-01-08\")\n",
    "\n",
    "network = \"8N\"\n",
    "station = \"HB04\"\n",
    "location = \"00\"\n",
    "channel = \"EHZ\"\n",
    "dataset = \"hautbois-grenoble\"\n",
    "time_zone = \"Europe/Brussels\"\n",
    "sitedesc = \"in Grenoble (FR)\"\n",
    "\n",
    "logo = None # 'https://upload.wikimedia.org/wikipedia/commons/thumb/4/44/Logo_SED_2014.png/220px-Logo_SED_2014.png'\n",
    "bans = {\"2024-01-01 00:00\":'New Year', \n",
    "        \"2024-01-15 00:00\":'Mid Month',\n",
    "        \"2024-01-31 23:59\": \"End of Record\"}\n",
    "\n",
    "datelist = pd.date_range(start.datetime, min(end, UTCDateTime()).datetime, freq=\"D\")"
   ]
  },
  {
   "cell_type": "markdown",
   "metadata": {},
   "source": [
    "# Station Metadata Loading\r\n",
    "\r\n",
    "Loads instrument response data from XML files in DATA/RESP/ directory.\r\n",
    "This information is crucial for accurate ground motion calculations."
   ]
  },
  {
   "cell_type": "code",
   "execution_count": null,
   "metadata": {
    "ExecuteTime": {
     "end_time": "2020-05-08T06:46:17.701310Z",
     "start_time": "2020-05-08T06:46:14.120096Z"
    }
   },
   "outputs": [],
   "source": [
    "resp = read_inventory(os.path.join(DATA_PATH, \"RESP\", \"*.xml\"))\n",
    "resp"
   ]
  },
  {
   "cell_type": "markdown",
   "metadata": {},
   "source": [
    "# Power Spectral Density Computation\r\n",
    "\r\n",
    "Processes daily seismic data with custom PPSD parameters:\r\n",
    "- PPSD length: 1200 seconds\r\n",
    "- Overlap: 50%\r\n",
    "- Period settings:\r\n",
    "  - Smoothing width: 0.025 octaves\r\n",
    "  - Step size: 0.0125 octaves\r\n",
    "  - Limits: 0.008 to 50 seconds\r\n",
    "- Amplitude range: -200 to 20 dB (0.25 dB steps)\r\n",
    "\r\n",
    "Saves results as NPZ files fo\n",
    "\n",
    "Those parameters are a 10x more \"nervous\" than the default ObsPy (and McNamarra) values!r each day."
   ]
  },
  {
   "cell_type": "markdown",
   "metadata": {},
   "source": [
    "### First, Let's have a look at the importance of the PPSD parameters"
   ]
  },
  {
   "cell_type": "code",
   "execution_count": null,
   "metadata": {},
   "outputs": [],
   "source": [
    "day = datelist[0]\n",
    "datestr = \"%03i\"%int(day.strftime(\"%j\"))\n",
    "year = day.strftime(\"%Y\")\n",
    "\n",
    "fn = os.path.join(DATA_PATH, \"SDS\", year, network, station, f\"{channel}.D\", f\"*.{datestr}\")\n",
    "st = read(fn)\n",
    "st.attach_response(resp)\n",
    "print(st)"
   ]
  },
  {
   "cell_type": "markdown",
   "metadata": {},
   "source": [
    "First cell: ObsPy's default parameters (mimicing the ones from McNamarra et al)"
   ]
  },
  {
   "cell_type": "code",
   "execution_count": null,
   "metadata": {},
   "outputs": [],
   "source": [
    "ppsd_length = 3600 # seconds\n",
    "overlap = 0.5 # 0-1 range\n",
    "period_smoothing_width_octaves = 1.0 # defaults to 1.0\n",
    "period_step_octaves = 0.125 # defaults to 0.125\n",
    "period_limits = None # default from 0 to Nyquist\n",
    "db_bins = (-200, -50, 1.) # defaults to (-200, -50, 1.)\n",
    "\n",
    "ppsd = PPSD(st[0].stats, metadata=resp,\n",
    "            ppsd_length=ppsd_length,\n",
    "            overlap=overlap,\n",
    "            period_smoothing_width_octaves=period_smoothing_width_octaves,\n",
    "            period_step_octaves=period_step_octaves,\n",
    "            period_limits=period_limits,\n",
    "            db_bins=db_bins)\n",
    "ppsd.add(st)\n",
    "ppsd.plot()"
   ]
  },
  {
   "cell_type": "markdown",
   "metadata": {},
   "source": [
    "Now, let's define a finer computatino grid (less smoothing):"
   ]
  },
  {
   "cell_type": "code",
   "execution_count": null,
   "metadata": {},
   "outputs": [],
   "source": [
    "ppsd_length = 1800 # seconds\n",
    "overlap = 0.5 # 0-1 range\n",
    "period_smoothing_width_octaves = 0.025 # defaults to 1.0\n",
    "period_step_octaves = 0.0125 # defaults to 0.125\n",
    "period_limits = (0.01, 50) # seconds default from 0 to Nyquist\n",
    "db_bins = (-200, 20, 0.25) # defaults to (-200, -50, 1.)\n",
    "\n",
    "ppsd_nervous = PPSD(st[0].stats, metadata=resp,\n",
    "                ppsd_length=ppsd_length,\n",
    "                overlap=overlap,\n",
    "                period_smoothing_width_octaves=period_smoothing_width_octaves,\n",
    "                period_step_octaves=period_step_octaves,\n",
    "                period_limits=period_limits,\n",
    "                db_bins=db_bins)\n",
    "ppsd_nervous.add(st)\n",
    "# Default plot:\n",
    "ppsd_nervous.plot()\n",
    "\n",
    "# Playing with the color scale, since less \"points\" fall into each small grid size:\n",
    "ppsd_nervous.plot(max_percentage=10)"
   ]
  },
  {
   "cell_type": "markdown",
   "metadata": {},
   "source": [
    "ObsPy allows you to check the day-night variations of noise, for example:"
   ]
  },
  {
   "cell_type": "code",
   "execution_count": null,
   "metadata": {},
   "outputs": [],
   "source": [
    "ppsd_nervous.calculate_histogram( time_of_weekday=[(-1, 0, 2), (-1, 22, 24)])\n",
    "ppsd_nervous.plot(max_percentage=10)\n",
    "periods, night_noise = ppsd_nervous.get_mean()\n",
    "night_noise[night_noise > -50] *= np.nan\n",
    "\n",
    "ppsd_nervous.calculate_histogram( time_of_weekday=[(-1, 9, 16)])\n",
    "ppsd_nervous.plot(max_percentage=10)\n",
    "periods, day_noise = ppsd_nervous.get_mean()\n",
    "day_noise[day_noise > -50] *= np.nan"
   ]
  },
  {
   "cell_type": "code",
   "execution_count": null,
   "metadata": {},
   "outputs": [],
   "source": [
    "from obspy.signal.spectral_estimation import get_nhnm, get_nlnm\n",
    "\n",
    "plt.figure(figsize=(16,8))\n",
    "plt.semilogx(periods, night_noise, label=\"Night\")\n",
    "plt.semilogx(periods, day_noise, label=\"Day\")\n",
    "\n",
    "plt.semilogx(*get_nlnm(), label=\"NLNM\", ls='--')\n",
    "plt.semilogx(*get_nhnm(), label=\"NHNM\", ls='--')\n",
    "\n",
    "plt.legend()\n",
    "plt.grid()\n",
    "plt.xlabel(\"Period (s)\")\n",
    "plt.ylabel(\"Amplitude\")\n",
    "plt.xlim(0.01, 100)\n",
    "plt.show()"
   ]
  },
  {
   "cell_type": "markdown",
   "metadata": {},
   "source": [
    "## Looping over all files with the nervous parameters:"
   ]
  },
  {
   "cell_type": "code",
   "execution_count": null,
   "metadata": {},
   "outputs": [],
   "source": [
    "ppsd_length = 1200 # seconds\n",
    "overlap = 0.5 # 0-1 range\n",
    "period_smoothing_width_octaves = 0.025 # defaults to 1.0\n",
    "period_step_octaves = 0.0125 # defaults to 0.125\n",
    "period_limits = (0.01, 50) # seconds default from 0 to Nyquist\n",
    "db_bins = (-200, 20, 0.25) # defaults to (-200, -50, 1.)"
   ]
  },
  {
   "cell_type": "code",
   "execution_count": null,
   "metadata": {
    "ExecuteTime": {
     "end_time": "2020-05-08T06:47:10.106003Z",
     "start_time": "2020-05-08T06:46:17.724247Z"
    }
   },
   "outputs": [],
   "source": [
    "force_reprocess = False\n",
    "pbar = tqdm.tqdm(datelist)\n",
    "os.makedirs(\"seismoRMS\", exist_ok=True)\n",
    "for day in pbar:\n",
    "    datestr = \"%03i\"%int(day.strftime(\"%j\"))\n",
    "    year = day.strftime(\"%Y\")\n",
    "    \n",
    "    fn = os.path.join(DATA_PATH, \"SDS\", year, network, station, f\"{channel}.D\", f\"*.{datestr}\")\n",
    "    pbar.set_description(\"Processing %s\" % fn)\n",
    "    try:\n",
    "        stall = read(fn, headonly=True)\n",
    "    except:\n",
    "        continue\n",
    "\n",
    "    for mseedid in list(set([tr.id for tr in stall])):\n",
    "        fn_out = os.path.join(\"seismorms\", \"{}_{}_{}.npz\".format(dataset, datestr, mseedid))\n",
    "        if os.path.isfile(fn_out) and not force_reprocess:\n",
    "            continue\n",
    "        st = read(fn, sourcename=mseedid)\n",
    "        st.attach_response(resp)\n",
    "        ppsd = PPSD(st[0].stats, metadata=resp,\n",
    "                ppsd_length=ppsd_length,\n",
    "                overlap=overlap,\n",
    "                period_smoothing_width_octaves=period_smoothing_width_octaves,\n",
    "                period_step_octaves=period_step_octaves,\n",
    "                period_limits=period_limits,\n",
    "                db_bins=db_bins)\n",
    "        with warnings.catch_warnings():\n",
    "            warnings.simplefilter(\"ignore\")\n",
    "            ppsd.add(st)\n",
    "        ppsd.save_npz(fn_out[:-4])\n",
    "        del st, ppsd\n",
    "    del stall\n"
   ]
  },
  {
   "cell_type": "markdown",
   "metadata": {},
   "source": [
    "# Load and Combine PPSDs\r\n",
    "\r\n",
    "Reloads all computed PPSD files:\r\n",
    "- Iterates through date range\r\n",
    "- Combines data for each seismic channel\r\n",
    "- Creates consolidated PPSD objects"
   ]
  },
  {
   "cell_type": "code",
   "execution_count": null,
   "metadata": {
    "ExecuteTime": {
     "end_time": "2020-05-08T06:47:16.462083Z",
     "start_time": "2020-05-08T06:47:10.109992Z"
    }
   },
   "outputs": [],
   "source": [
    "ppsds = {}\n",
    "pbar = tqdm.tqdm(datelist)\n",
    "for day in pbar:\n",
    "    datestr = \"%03i\"%int(day.strftime(\"%j\"))\n",
    "    fn_pattern = os.path.join(\"seismorms\", \"{}_{}_*.npz\".format(dataset, datestr))\n",
    "    pbar.set_description(\"Reading %s\" % fn_pattern)\n",
    "    for fn in glob(fn_pattern):\n",
    "        mseedid = fn.replace(\".npz\", \"\").split(\"_\")[-1]\n",
    "        if mseedid not in ppsds:\n",
    "            ppsds[mseedid] = PPSD.load_npz(fn)#, allow_pickle=True)\n",
    "        else:\n",
    "            with warnings.catch_warnings():\n",
    "                warnings.simplefilter(\"ignore\")\n",
    "                ppsds[mseedid].add_npz(fn)#, allow_pickle=True)"
   ]
  },
  {
   "cell_type": "markdown",
   "metadata": {},
   "source": [
    "# Generate Standard PPSD Plots\r\n",
    "\r\n",
    "Creates three standard ObsPy visualizations for each channel:\r\n",
    "- Probability density functions\r\n",
    "- Temporal evolution at target period (0.1s)\r\n",
    "- Spectrogram representation"
   ]
  },
  {
   "cell_type": "code",
   "execution_count": null,
   "metadata": {
    "ExecuteTime": {
     "end_time": "2020-05-08T06:49:46.636756Z",
     "start_time": "2020-05-08T06:47:16.467090Z"
    }
   },
   "outputs": [],
   "source": [
    "target_period = 0.1\n",
    "for mseedid, ppsd in ppsds.items():\n",
    "    print(f\"OsbPy plots for {mseedid}\")\n",
    "    ppsd.plot(max_percentage=10)\n",
    "    ppsd.plot_temporal(target_period)\n",
    "    ppsd.plot_spectrogram(clim=(-160,-80))"
   ]
  },
  {
   "cell_type": "markdown",
   "metadata": {},
   "source": [
    "# Advanced Analysis and Visualization\r\n",
    "\r\n",
    "Multi-step process:\r\n",
    "1. Select specific seed ID for analysis\r\n",
    "2. Convert PPSD to DataFrame format\r\n",
    "3. Create period vs time plots\r\n",
    "4. Create frequency vs time plots\r\n",
    "5. Calculate RMS displacement for multiple frequency bands:\r\n",
    "   - 0.1-1.0 Hz\r\n",
    "   - 1.0-20.0 Hz\r\n",
    "   - 4.0-14.0 Hz\r\n",
    "   - 4.0-20.0 Hz\r\n",
    "   - 2.0-100.0 Hz\r\n",
    "\r\n",
    "Final visualization options:\r\n",
    "- Timeseries plots\r\n",
    "- Daily patterns\r\n",
    "- Clock plots (24-hour analysis)\r\n",
    "- Clock maps (time distribution)\r\n",
    "- Grid maps (spatial distribution)\r\n",
    "\r\n",
    "Parameters c\n",
    "- be customized for:\r\n",
    "- Fre- ency band - lection\r\n",
    "- Time z- e\r\n",
    "- Site descr- tion\r\n",
    "- Logo i- Output\r\n",
    "- Event markers\r\n",
    "- O\n",
    "\n",
    "utput units and resampling\n",
    "You'll have the repeat the next steps for different seed_ids:"
   ]
  },
  {
   "cell_type": "code",
   "execution_count": null,
   "metadata": {},
   "outputs": [],
   "source": [
    "seed_id = \"8N.HB04.00.EHZ\""
   ]
  },
  {
   "cell_type": "markdown",
   "metadata": {},
   "source": [
    "Loading the content of the PPSD into a DataFrame:"
   ]
  },
  {
   "cell_type": "code",
   "execution_count": null,
   "metadata": {},
   "outputs": [],
   "source": [
    "data = psd_ppsd_to_dataframe(ppsds[seed_id])\n",
    "data = data.dropna(axis=1, how=\"all\")\n",
    "data"
   ]
  },
  {
   "cell_type": "markdown",
   "metadata": {},
   "source": [
    "## Period vs Time plot"
   ]
  },
  {
   "cell_type": "code",
   "execution_count": null,
   "metadata": {},
   "outputs": [],
   "source": [
    "%matplotlib inline\n",
    "fig, axes = plt.subplots(1,1, figsize=(16,7), sharex=True)\n",
    "vmin, vmax = np.percentile(data, [5,95])\n",
    "plt.pcolormesh(data.index, data.columns, data.T, cmap=\"viridis\",\n",
    "                       vmin=vmin, vmax=vmax, rasterized=True)\n",
    "plt.colorbar(shrink=0.7).set_label(\"Amplitude (dB)\")\n",
    "plt.title(seed_id)\n",
    "plt.ylim(0.05,20)\n",
    "plt.yscale(\"log\")\n",
    "plt.ylabel(\"Period (s)\")\n",
    "\n",
    "minx, maxx = plt.xlim()\n",
    "\n",
    "fig.autofmt_xdate()\n",
    "\n",
    "plt.tight_layout()\n"
   ]
  },
  {
   "cell_type": "markdown",
   "metadata": {},
   "source": [
    "## Frequency vs Time plot"
   ]
  },
  {
   "cell_type": "code",
   "execution_count": null,
   "metadata": {},
   "outputs": [],
   "source": [
    "%matplotlib inline\n",
    "fig, axes = plt.subplots(1,1, figsize=(16,7), sharex=True)\n",
    "vmin, vmax = np.percentile(data, [5,95])\n",
    "data_f = data.copy()\n",
    "data_f.columns = 1./ data_f.columns\n",
    "data_f = data_f.sort_index(axis=1)\n",
    "plt.pcolormesh(data_f.index, data_f.columns, data_f.T, cmap=\"viridis\",\n",
    "                       vmin=vmin, vmax=vmax, rasterized=True)\n",
    "plt.colorbar(shrink=0.7).set_label(\"Amplitude (dB)\")\n",
    "plt.title(seed_id)\n",
    "plt.ylim(0.05,20)\n",
    "plt.yscale(\"log\")\n",
    "plt.ylabel(\"Frequency (Hz)\")\n",
    "\n",
    "minx, maxx = plt.xlim()\n",
    "fig.autofmt_xdate()\n",
    "\n",
    "plt.tight_layout()\n"
   ]
  },
  {
   "cell_type": "markdown",
   "metadata": {},
   "source": [
    "## Process PSDs to extract the RMS(displacement)\n",
    "\n",
    "This can be done for multiple filters at once (``freqs`` below):"
   ]
  },
  {
   "cell_type": "code",
   "execution_count": null,
   "metadata": {
    "ExecuteTime": {
     "end_time": "2020-05-08T06:50:06.581418Z",
     "start_time": "2020-05-08T06:49:49.777763Z"
    },
    "pycharm": {
     "name": "#%%\n"
    }
   },
   "outputs": [],
   "source": [
    "# Define frequency bands of interest:\n",
    "freqs = [(0.1,1.0),(1.0,20.0),(4.0,14.0),(4.0,20.0),(2.0,100.0)]\n",
    "\n",
    "displacement_RMS = {}\n",
    "pbar = tqdm.tqdm(ppsds.items())\n",
    "for mseedid, ppsd in pbar:\n",
    "    if mseedid != seed_id:\n",
    "        continue\n",
    "    pbar.set_description(f\"Processing {mseedid}\")\n",
    "    ind_times = pd.DatetimeIndex([d.datetime for d in ppsd.current_times_used])\n",
    "    data = pd.DataFrame(ppsd.psd_values, index=ind_times, columns=1./ppsd.period_bin_centers)\n",
    "    data = data.sort_index(axis=1)\n",
    "    displacement_RMS[mseedid] = seismosocialdistancing.df_rms(data, freqs, output=\"DISP\")\n",
    "    displacement_RMS[mseedid].to_csv(\"%s.csv\" % mseedid)"
   ]
  },
  {
   "cell_type": "markdown",
   "metadata": {},
   "source": [
    "## Weekday / Time of day Analysis"
   ]
  },
  {
   "cell_type": "code",
   "execution_count": null,
   "metadata": {
    "ExecuteTime": {
     "end_time": "2020-05-08T06:50:10.366068Z",
     "start_time": "2020-05-08T06:50:06.585408Z"
    }
   },
   "outputs": [],
   "source": [
    "args = {'band':\"4.0-14.0\",       # might be None or commented (\"4.0-14.0\" per default) or any of the tupples in freqs\n",
    "        'time_zone':time_zone,   # required for clockplots\n",
    "        'sitedesc':sitedesc,     # might be None or commented\n",
    "        'logo':logo,             # might be None or commented\n",
    "        'bans':bans,             # might be None or commented\n",
    "        'save':'./output/',      # might be None or commented or a path \n",
    "        'unit':'nm',\n",
    "        'resample': (\"30\", \"min\")\n",
    "       }\n",
    "seismosocialdistancing.plot(displacement_RMS,\n",
    "                            type='timeseries',\n",
    "                            **args)"
   ]
  },
  {
   "cell_type": "code",
   "execution_count": null,
   "metadata": {
    "ExecuteTime": {
     "end_time": "2020-05-08T06:50:12.651399Z",
     "start_time": "2020-05-08T06:50:10.370011Z"
    }
   },
   "outputs": [],
   "source": [
    "seismosocialdistancing.plot(displacement_RMS,\n",
    "                            type='dailyplots',\n",
    "                            **args)"
   ]
  },
  {
   "cell_type": "code",
   "execution_count": null,
   "metadata": {
    "ExecuteTime": {
     "end_time": "2020-05-08T06:50:18.101276Z",
     "start_time": "2020-05-08T06:50:12.654353Z"
    }
   },
   "outputs": [],
   "source": [
    "seismosocialdistancing.plot(displacement_RMS,\n",
    "                            type='clockplots',\n",
    "                            **args)"
   ]
  },
  {
   "cell_type": "markdown",
   "metadata": {},
   "source": [
    "## Noise distribution over time of the day  "
   ]
  },
  {
   "cell_type": "code",
   "execution_count": null,
   "metadata": {
    "ExecuteTime": {
     "end_time": "2020-05-08T06:50:22.177597Z",
     "start_time": "2020-05-08T06:50:18.104268Z"
    }
   },
   "outputs": [],
   "source": [
    "seismosocialdistancing.plot(displacement_RMS,\n",
    "                            type='clockmaps',\n",
    "                            **args)"
   ]
  },
  {
   "cell_type": "code",
   "execution_count": null,
   "metadata": {
    "ExecuteTime": {
     "end_time": "2020-05-08T06:50:26.135857Z",
     "start_time": "2020-05-08T06:50:22.180560Z"
    }
   },
   "outputs": [],
   "source": [
    "seismosocialdistancing.plot(displacement_RMS,\n",
    "                            type='gridmaps',\n",
    "                            **args)"
   ]
  },
  {
   "cell_type": "code",
   "execution_count": null,
   "metadata": {},
   "outputs": [],
   "source": []
  },
  {
   "cell_type": "markdown",
   "metadata": {},
   "source": [
    "# Background computation\n",
    "\n",
    "While we go to the I95 noteboon and Koen introduces the next topic, please let your computer run the following cells:"
   ]
  },
  {
   "cell_type": "code",
   "execution_count": null,
   "metadata": {},
   "outputs": [],
   "source": [
    "# Make sure you take at least a full week (>=7 days) before the first \"ban\"\n",
    "start = UTCDateTime(\"2024-01-01\")\n",
    "# Leaving UTCDateTime() empty means \"now\":\n",
    "end = UTCDateTime(\"2024-02-01\")\n",
    "\n",
    "network = \"8N\"\n",
    "station = \"HB0*\"\n",
    "location = \"00\"\n",
    "channel = \"EH*\"\n",
    "dataset = \"hautbois-grenoble\"\n",
    "time_zone = \"Europe/Brussels\"\n",
    "sitedesc = \"in Grenoble (FR)\"\n",
    "\n",
    "logo = None # 'https://upload.wikimedia.org/wikipedia/commons/thumb/4/44/Logo_SED_2014.png/220px-Logo_SED_2014.png'\n",
    "bans = {\"2024-01-01 00:00\":'New Year', \n",
    "        \"2024-01-15 00:00\":'Half',\n",
    "        \"2024-01-31 23:59\": \"End of Record\"}\n",
    "\n",
    "datelist = pd.date_range(start.datetime, min(end, UTCDateTime()).datetime, freq=\"D\")"
   ]
  },
  {
   "cell_type": "code",
   "execution_count": null,
   "metadata": {},
   "outputs": [],
   "source": [
    "ppsd_length = 3600 # seconds\n",
    "overlap = 0.0 # 0-1 range\n",
    "period_smoothing_width_octaves = 0.025 # defaults to 1.0\n",
    "period_step_octaves = 0.0125 # defaults to 0.125\n",
    "period_limits = (0.01, 50) # seconds default from 0 to Nyquist\n",
    "db_bins = (-200, 20, 0.25) # defaults to (-200, -50, 1.)"
   ]
  },
  {
   "cell_type": "code",
   "execution_count": null,
   "metadata": {},
   "outputs": [],
   "source": [
    "force_reprocess = False\n",
    "pbar = tqdm.tqdm(datelist)\n",
    "os.makedirs(\"seismoRMS\", exist_ok=True)\n",
    "for day in pbar:\n",
    "    datestr = \"%03i\"%int(day.strftime(\"%j\"))\n",
    "    year = day.strftime(\"%Y\")\n",
    "    \n",
    "    fn = os.path.join(DATA_PATH, \"SDS\", year, network, station, f\"{channel}.D\", f\"*.{datestr}\")\n",
    "    \n",
    "    try:\n",
    "        stall = read(fn, headonly=True)\n",
    "    except:\n",
    "        continue\n",
    "\n",
    "    for mseedid in list(set([tr.id for tr in stall])):\n",
    "        fn_out = os.path.join(\"seismorms\", \"{}_{}_{}.npz\".format(dataset, datestr, mseedid))\n",
    "        if os.path.isfile(fn_out) and not force_reprocess:\n",
    "            continue\n",
    "        pbar.set_description(\"Processing %s\" % fn_out)\n",
    "        st = read(fn, sourcename=mseedid)\n",
    "        st.attach_response(resp)\n",
    "        ppsd = PPSD(st[0].stats, metadata=resp,\n",
    "                ppsd_length=ppsd_length,\n",
    "                overlap=overlap,\n",
    "                period_smoothing_width_octaves=period_smoothing_width_octaves,\n",
    "                period_step_octaves=period_step_octaves,\n",
    "                period_limits=period_limits,\n",
    "                db_bins=db_bins)\n",
    "        with warnings.catch_warnings():\n",
    "            warnings.simplefilter(\"ignore\")\n",
    "            ppsd.add(st)\n",
    "        ppsd.save_npz(fn_out[:-4])\n",
    "        del st, ppsd\n",
    "    del stall\n"
   ]
  },
  {
   "cell_type": "code",
   "execution_count": null,
   "metadata": {},
   "outputs": [],
   "source": []
  }
 ],
 "metadata": {
  "kernelspec": {
   "display_name": "Python 3 (ipykernel)",
   "language": "python",
   "name": "python3"
  },
  "language_info": {
   "codemirror_mode": {
    "name": "ipython",
    "version": 3
   },
   "file_extension": ".py",
   "mimetype": "text/x-python",
   "name": "python",
   "nbconvert_exporter": "python",
   "pygments_lexer": "ipython3",
   "version": "3.11.8"
  }
 },
 "nbformat": 4,
 "nbformat_minor": 4
}
