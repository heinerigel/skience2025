{
 "cells": [
  {
   "cell_type": "markdown",
   "metadata": {},
   "source": [
    "# Reload PSD Data & Compare HVSR Results\r\n",
    "\r\n",
    "This notebook analyzes seismic data by calculating and comparing Horizontal to Vertical Spectral Ratios (HVSR) from Power Spectral Density (PSD) dat This notebook provides a comprehensive workflow for analyzing site characteristics using HVSR, particularly useful for identifying resonance frequencies and their temporal variations.a."
   ]
  },
  {
   "cell_type": "markdown",
   "metadata": {},
   "source": [
    "# Import Required Libraries\r\n",
    "\r\n",
    "Sets up the Python environment with:\r\n",
    "- Basic utilities: datetime, os, glob\r\n",
    "- Data processing: numpy, pandas\r\n",
    "- Visualization: matplotlib (configured for Adobe Illustrator compatibility)\r\n",
    "- Seismic processing: \r\n",
    "  - ObsPy components (UTCDateTime, read, read_inventory, PPSD)\r\n",
    "  - FDSN client for data access\r\n",
    "- Progress tracking: tqdm\r\n",
    "- Custom utilities: seismosocialdistancing module"
   ]
  },
  {
   "cell_type": "code",
   "execution_count": null,
   "metadata": {
    "ExecuteTime": {
     "end_time": "2020-05-08T06:46:13.572490Z",
     "start_time": "2020-05-08T06:45:59.783138Z"
    }
   },
   "outputs": [],
   "source": [
    "import datetime\n",
    "import os\n",
    "from glob import glob\n",
    "\n",
    "import matplotlib\n",
    "matplotlib.rcParams['pdf.fonttype'] = 42  # to edit text in Illustrator\n",
    "import matplotlib.pyplot as plt\n",
    "import matplotlib.ticker as ticker\n",
    "import matplotlib.patheffects as pe\n",
    "import numpy as np\n",
    "import pandas as pd\n",
    "import tqdm\n",
    "import warnings\n",
    "\n",
    "from obspy import UTCDateTime, read, read_inventory\n",
    "from obspy.clients.fdsn import Client\n",
    "from obspy.clients.fdsn.client import FDSNNoDataException\n",
    "from obspy.signal import PPSD\n",
    "from msnoise.api import psd_ppsd_to_dataframe\n",
    "\n",
    "%load_ext autoreload\n",
    "%autoreload 2\n",
    "import seismosocialdistancing"
   ]
  },
  {
   "cell_type": "markdown",
   "metadata": {},
   "source": [
    "# Configuration Parameters\r\n",
    "\r\n",
    "Sets up analysis parameters:\r\n",
    "- Time period: 2024-01-01 to 2024-01-31\r\n",
    "- Station details:\r\n",
    "  - Network: 8N\r\n",
    "  - Station: HB04\r\n",
    "  - Location: 00\r\n",
    "  - Channel: EHZ (vertical component)\r\n",
    "- Analysis settings:\r\n",
    "  - Dataset name: \"example\"\r\n",
    "  - Timezone: Europe/Brussels\r\n",
    "  - Site location: Grenoble (FR)\r\n",
    "- Event markers defined for key dates"
   ]
  },
  {
   "cell_type": "code",
   "execution_count": null,
   "metadata": {
    "ExecuteTime": {
     "end_time": "2020-05-08T06:46:14.089189Z",
     "start_time": "2020-05-08T06:46:13.580338Z"
    }
   },
   "outputs": [],
   "source": [
    "# Make sure you take at least a full week (>=7 days) before the first \"ban\"\n",
    "start = UTCDateTime(\"2024-01-01\")\n",
    "# Leaving UTCDateTime() empty means \"now\":\n",
    "end = UTCDateTime(\"2024-02-01\")\n",
    "\n",
    "network = \"8N\"\n",
    "station = \"HB0*\"\n",
    "location = \"00\"\n",
    "channel = \"EH*\"\n",
    "dataset = \"hautbois-grenoble\"\n",
    "time_zone = \"Europe/Brussels\"\n",
    "sitedesc = \"in Grenoble (FR)\"\n",
    "\n",
    "logo = None # 'https://upload.wikimedia.org/wikipedia/commons/thumb/4/44/Logo_SED_2014.png/220px-Logo_SED_2014.png'\n",
    "bans = {\"2024-01-01 00:00\":'New Year', \n",
    "        \"2024-01-15 00:00\":'Half',\n",
    "        \"2024-01-31 23:59\": \"End of Record\"}\n",
    "\n",
    "datelist = pd.date_range(start.datetime, min(end, UTCDateTime()).datetime, freq=\"D\")"
   ]
  },
  {
   "cell_type": "markdown",
   "metadata": {},
   "source": [
    "# Load Power Spectral Density Data\r\n",
    "\r\n",
    "Iterates through date range to load pre-computed PSD data:\r\n",
    "- Reads NPZ files for each day\r\n",
    "- Organizes data by SEED ID (station identifier)\r\n",
    "- Handles warnings during data loading\r\n",
    "- Combines multiple days of data into single PPSD objects"
   ]
  },
  {
   "cell_type": "code",
   "execution_count": null,
   "metadata": {
    "ExecuteTime": {
     "end_time": "2020-05-08T06:47:16.462083Z",
     "start_time": "2020-05-08T06:47:10.109992Z"
    }
   },
   "outputs": [],
   "source": [
    "ppsds = {}\n",
    "pbar = tqdm.tqdm(datelist)\n",
    "for day in pbar:\n",
    "    datestr = \"%03i\"%int(day.strftime(\"%j\"))\n",
    "    fn_pattern = os.path.join(\"seismorms\", \"{}_{}_*.npz\".format(dataset, datestr))\n",
    "    pbar.set_description(\"Reading %s\" % fn_pattern)\n",
    "    for fn in glob(fn_pattern):\n",
    "        mseedid = fn.replace(\".npz\", \"\").split(\"_\")[-1]\n",
    "        if mseedid not in ppsds:\n",
    "            ppsds[mseedid] = PPSD.load_npz(fn)#, allow_pickle=True)\n",
    "        else:\n",
    "            with warnings.catch_warnings():\n",
    "                warnings.simplefilter(\"ignore\")\n",
    "                ppsds[mseedid].add_npz(fn)#, allow_pickle=True)"
   ]
  },
  {
   "cell_type": "markdown",
   "metadata": {},
   "source": [
    "# Velocity Conversion Utilities\r\n",
    "\r\n",
    "Two key functions for converting acceleration PSDs to velocity spectra:\r\n",
    "\r\n",
    "1. convert_to_velocity(df):\r\n",
    "   Converts acceleration power (in dB) to velocity amplitude using these steps:\r\n",
    "   \r\n",
    "   a) First, acceleration power spectral density to acceleration amplitude:\r\n",
    "      $A(f) = \\sqrt{10^{PSD/10}}$\r\n",
    "   \r\n",
    "   b) Then, acceleration to velocity conversion in frequency domain:\r\n",
    "      $V(f) = \\frac{A(f)}{2\\pi f}$\r\n",
    "   \r\n",
    "   Combining both steps into a single equation:\r\n",
    "   $V(f) = \\sqrt{\\frac{10^{PSD/10}}{(2\\pi f)^2}}$\r\n",
    "   \r\n",
    "   Where:\r\n",
    "   - $PSD$: Power Spectral Density in dB (acceleration)\r\n",
    "   - $f$: frequency in Hz\r\n",
    "   - $A(f)$: acceleration amplitude\r\n",
    "   - $V(f)$:qrt(10.0 ** (df / 10.) / w2f ** 2).sqrt(10.0 ** (df / 10.) / w2f ** 2)\r\n",
    "   - Applies the conversionsformation"
   ]
  },
  {
   "cell_type": "code",
   "execution_count": null,
   "metadata": {},
   "outputs": [],
   "source": [
    "def convert_to_velocity(df):\n",
    "    df = df.resample(\"30Min\").mean()\n",
    "    df.columns = 1. / df.columns\n",
    "    df = df.sort_index(axis=1)\n",
    "    df = df.dropna(axis=1, how='all')\n",
    "\n",
    "    w2f = (2.0 * np.pi * df.columns)\n",
    "    # The acceleration amplitude spectrum and velocity spectral amplitude (not power)\n",
    "    vamp = np.sqrt(10.0 ** (df / 10.) / w2f ** 2)\n",
    "    return vamp\n",
    "\n",
    "def psd_to_vel(seed_id):\n",
    "    Z = psd_ppsd_to_dataframe(ppsds[seed_id])\n",
    "    Z = Z.dropna(axis=1, how=\"all\")\n",
    "    Z = convert_to_velocity(Z)    \n",
    "    return Z"
   ]
  },
  {
   "cell_type": "markdown",
   "metadata": {},
   "source": [
    "# Process Component Data\r\n",
    "\r\n",
    "Converts PSD data to velocity spectra for:\r\n",
    "- Vertical component (Z)\r\n",
    "- North-South component (N)\r\n",
    "- East-West componen out]"
   ]
  },
  {
   "cell_type": "code",
   "execution_count": null,
   "metadata": {},
   "outputs": [],
   "source": [
    "def get_spectra_and_hvsr(netstaloc):\n",
    "    Z = psd_to_vel(f\"{netstaloc}.EHZ\")\n",
    "    N = psd_to_vel(f\"{netstaloc}.EHN\")\n",
    "    E = psd_to_vel(f\"{netstaloc}.EHE\")\n",
    "    HVSR = (N+E)/(2*Z)\n",
    "    return Z, N, E, HVSR"
   ]
  },
  {
   "cell_type": "markdown",
   "metadata": {},
   "source": [
    "# Spectral Analysis and HVSR Calculation\r\n",
    "\r\n",
    "Creates two visualization plots:\r\n",
    "1. Average spectrum per component:\r\n",
    "   - Shows Z and N components\r\n",
    "   - Marks 0.27 Hz reference line\r\n",
    "   - Includes legend and scaling\r\n",
    "\r\n",
    "2. HVSR from average spectra:\r\n",
    "   - Calculates N/Z ratio\r\n",
    "   - Shows frequency re- onse\r\n",
    "   - Marks resonance frequency"
   ]
  },
  {
   "cell_type": "code",
   "execution_count": null,
   "metadata": {},
   "outputs": [],
   "source": [
    "netstaloc = \"8N.HB01.00\"\n",
    "Z, N, E, HVSR = get_spectra_and_hvsr(netstaloc)\n",
    "Zm = Z.mean()\n",
    "Nm = N.mean()\n",
    "Em = E.mean()\n",
    "HVSR = HVSR.mean()\n",
    "HVSR_from_mean = (Nm+Em)/(2*Zm)\n",
    "\n",
    "plt.semilogx(Zm.index, Zm, label=\"Z\")\n",
    "plt.semilogx(Nm.index, Nm, label=\"N\")\n",
    "plt.semilogx(Em.index, Em, label=\"E\")\n",
    "plt.axvline(0.27, c='r', ls=\"--\")\n",
    "plt.legend()\n",
    "plt.title(\"Average Spectrum per component\")\n",
    "plt.ylim(0, np.percentile(Zm, 99.5))\n",
    "plt.show()\n",
    "\n",
    "plt.figure()\n",
    "plt.semilogx(HVSR.index, HVSR, label=\"HVSR (PSD, mean of HVSR windows)\")\n",
    "plt.semilogx(HVSR_from_mean.index, HVSR_from_mean, label=\"HVSR (PSD, HVSR of mean Z,N,E)\")\n",
    "plt.axvline(0.27, c='r', ls=\"--\")\n",
    "plt.legend()\n",
    "plt.title(\"HVSR from the ratio of average spectra\")\n",
    "plt.show()"
   ]
  },
  {
   "cell_type": "markdown",
   "metadata": {},
   "source": [
    "# Compare with Geopsy\n",
    "\n",
    "We will now load the precomputed average HVSR computed in Geopsy : $HVSR_{geopsy} = mean(HVSR_w)$ for each w window and compare it to the HVSR we obtain from the PSDs computation: either the mean of HVSR windows, or the HVSR from mean spectra."
   ]
  },
  {
   "cell_type": "code",
   "execution_count": null,
   "metadata": {},
   "outputs": [],
   "source": [
    "def read_HV(HV_file):\n",
    "    \"\"\"\n",
    "    Read the .hv output files of Geopsy exported from the HV module.\n",
    "    The definition returns a pandas series of: \n",
    "    Freq, A, A_min, A_max \n",
    "    with \n",
    "    Freq: H/V geometrically averaged over all individual H/V curves (windows)\n",
    "    A0: the H/V amplitude curve\n",
    "    A_min: The H/V amplitude minimum standard deviation.\n",
    "    A_max: The H/V amplitude maximum standard deviation.\n",
    "    \"\"\"\n",
    "    df = pd.read_csv(HV_file, delimiter='\\t',names=['Frequency', 'Average', 'Min', 'Max'], comment='#')\n",
    "    Freq = df[\"Frequency\"]\n",
    "    A_min = df['Min']\n",
    "    A = df['Average']\n",
    "    A_max = df['Max']\n",
    "    NaNs = np.isnan(df)\n",
    "    df[NaNs] = 0\n",
    "    return Freq, A, A_min, A_max\n",
    "\n",
    "def plot_HV(Freq, A, A_min, A_max,):\n",
    "    \n",
    "    \"\"\"\n",
    "    Plot the HV curve from an .hv log file using all necessary params:\n",
    "    Freq, A, A_min, A_max, Amax_f0, Fmax_f0, Amin, Amax, label, color\n",
    "    Label: fill in whatever you want\n",
    "    color: color the H/V curve\n",
    "    Other params see get_params_from_HV() and get_params_from_HV_curve()\n",
    "    \"\"\"\n",
    "    \n",
    "    plt.semilogx(Freq, A, label='HVSR Geopsy (mean of HVSR windows)', zorder = 0)\n",
    "    plt.fill_between(Freq, A_min,A_max,facecolor='lightblue', edgecolor=\"none\", alpha=0.5, label = 'error')"
   ]
  },
  {
   "cell_type": "code",
   "execution_count": null,
   "metadata": {},
   "outputs": [],
   "source": [
    "netstaloc = \"8N.HB04.00\"\n",
    "\n",
    "# Geopsy output - 2 years!! of data\n",
    "Freq, A, A_min, A_max = read_HV(f\"DATA/HVSR_AVG/{netstaloc}_HVSR_mean.hv\")\n",
    "\n",
    "# This HVSR:\n",
    "Z, N, E, HVSR = get_spectra_and_hvsr(netstaloc)\n",
    "Zm = Z.mean()\n",
    "Nm = N.mean()\n",
    "Em = E.mean()\n",
    "HVSR_PSD = HVSR.mean()\n",
    "HVSR_PSD_std = HVSR.std()\n",
    "HVSR_from_mean = (Nm+Em)/(2*Zm)\n",
    "\n",
    "plt.figure(figsize=(16,8))\n",
    "plot_HV(Freq, A, A_min, A_max)\n",
    "\n",
    "plt.semilogx(HVSR_PSD.index, HVSR_PSD, label=\"HVSR PSD (mean of HVSR windows)\")\n",
    "plt.fill_between(HVSR_PSD.index, HVSR_PSD-HVSR_PSD_std, HVSR_PSD+HVSR_PSD_std, label=\"HVSR PSD (STD of HVSR windows)\",\n",
    "                 zorder=-1, facecolor=\"orange\", edgecolor=\"none\", alpha=0.5)\n",
    "plt.semilogx(HVSR_from_mean.index, HVSR_from_mean, label=\"HVSR PSD (HVSR of mean Z,N,E)\")\n",
    "\n",
    "plt.axvline(0.27, c='r', ls=\"--\")\n",
    "plt.legend()\n",
    "plt.grid(which='both')\n",
    "plt.title(f\"HVSR from the ratio of average spectra for {netstaloc}\")\n",
    "plt.xlabel(\"Frequency (Hz)\")\n",
    "plt.ylabel(\"Amplitude\")\n",
    "plt.show()"
   ]
  },
  {
   "cell_type": "markdown",
   "metadata": {},
   "source": [
    "# Continuous HVSR Processing\r\n",
    "\r\n",
    "Creates time-frequency visualizations:\r\n",
    "1. Full spectrum HVSR:\r\n",
    "   - Shows ratio evolution over time\r\n",
    "   - Uses logarithmic frequency scale\r\n",
    "   - Includes colorbar for amplitude\r\n",
    "\r\n",
    "2. Focused low-frequency analysis:\r\n",
    "   - Zooms on main resonance peak\r\n",
    "   - Frequency range: 0.2-0.35 Hz\r\n",
    "   - Shows temporal variations in site response"
   ]
  },
  {
   "cell_type": "code",
   "execution_count": null,
   "metadata": {},
   "outputs": [],
   "source": [
    "netstaloc = \"8N.HB04.00\""
   ]
  },
  {
   "cell_type": "code",
   "execution_count": null,
   "metadata": {},
   "outputs": [],
   "source": [
    "Z, N, E, HVSR = get_spectra_and_hvsr(netstaloc)\n",
    "HVSR.head()"
   ]
  },
  {
   "cell_type": "code",
   "execution_count": null,
   "metadata": {},
   "outputs": [],
   "source": [
    "%matplotlib inline\n",
    "fig, axes = plt.subplots(1,1, figsize=(16,7), sharex=True)\n",
    "\n",
    "data_f = HVSR.copy()\n",
    "data_f = data_f.dropna()\n",
    "vmin, vmax = np.percentile(data_f.values, [0.5,99.5])\n",
    "plt.pcolormesh(data_f.index, data_f.columns, data_f.T, cmap=\"viridis\",\n",
    "                       vmin=vmin, vmax=vmax, rasterized=True)\n",
    "plt.colorbar(shrink=0.7).set_label(\"Amplitude (dB)\")\n",
    "# plt.ylim(0.05,20)\n",
    "plt.yscale(\"log\")\n",
    "plt.ylabel(\"Frequency (Hz)\")\n",
    "\n",
    "minx, maxx = plt.xlim()\n",
    "plt.axhline(0.27, c='r', ls=\"--\")\n",
    "fig.autofmt_xdate()\n",
    "\n",
    "plt.tight_layout()\n"
   ]
  },
  {
   "cell_type": "markdown",
   "metadata": {},
   "source": [
    "### Zoom on the main low frequency peak"
   ]
  },
  {
   "cell_type": "code",
   "execution_count": null,
   "metadata": {},
   "outputs": [],
   "source": [
    "%matplotlib inline\n",
    "fig, axes = plt.subplots(1,1, figsize=(16,7), sharex=True)\n",
    "\n",
    "data_f = HVSR.copy()\n",
    "data_f = data_f.dropna()\n",
    "# data_f = data_f.rolling(\"6H\", center=True).mean()\n",
    "vmin, vmax = np.percentile(data_f.loc[:,0.2:0.35].values, [0.05,99.5])\n",
    "plt.pcolormesh(data_f.index, data_f.columns, data_f.T, cmap=\"viridis\",\n",
    "                       vmin=vmin, vmax=vmax, rasterized=True)\n",
    "plt.colorbar(shrink=0.7).set_label(\"Amplitude (dB)\")\n",
    "# plt.ylim(0.05,20)\n",
    "# plt.yscale(\"log\")\n",
    "plt.ylabel(\"Frequency (Hz)\")\n",
    "\n",
    "minx, maxx = plt.xlim()\n",
    "plt.axhline(0.27, c='r', ls=\"--\")\n",
    "fig.autofmt_xdate()\n",
    "plt.ylim(0.2, 0.35)\n",
    "plt.tight_layout()\n"
   ]
  },
  {
   "cell_type": "markdown",
   "metadata": {},
   "source": [
    "## Cross-Station Spectral Ratios"
   ]
  },
  {
   "cell_type": "code",
   "execution_count": null,
   "metadata": {},
   "outputs": [],
   "source": [
    "for channel in [\"EHE\", \"EHN\", \"EHZ\"]:\n",
    "    HB01 = psd_to_vel(f\"8N.HB01.00.{channel}\").mean().loc[0.05:95]\n",
    "    HB04 = psd_to_vel(f\"8N.HB04.00.{channel}\").mean().loc[0.05:95]\n",
    "    fig, axes = plt.subplots(2,1, sharex=True, figsize=(12,8))\n",
    "    plt.sca(axes[0])\n",
    "    plt.semilogx(HB01.index, HB01, label=\"HB01 (top)\")\n",
    "    plt.semilogx(HB04.index, HB04, label=\"HB04 (bottom)\")\n",
    "    plt.axvline(0.27, c='r', ls=\"--\")\n",
    "    plt.legend()\n",
    "    plt.title(f\"Average Spectrum: {channel}\")\n",
    "    # plt.ylim(0, np.percentile(Zm, 99.9))\n",
    "    plt.grid(which=\"both\")\n",
    "    plt.xlabel(\"Frequency (Hz)\")\n",
    "    plt.ylabel(\"Amplitude\")\n",
    "\n",
    "    plt.sca(axes[1])    \n",
    "    RATIO = HB01/HB04\n",
    "    plt.semilogx(RATIO.index, RATIO, label=\"HB01/HB04 (top/bottom)\", c=\"g\")\n",
    "    plt.axvline(0.27, c='r', ls=\"--\")\n",
    "    plt.legend()\n",
    "    plt.title(f\"Amplification: {channel}\")\n",
    "    plt.grid(which=\"both\")\n",
    "    plt.xlabel(\"Frequency (Hz)\")\n",
    "    plt.ylabel(\"Amplitude\")\n",
    "    plt.show()"
   ]
  }
 ],
 "metadata": {
  "kernelspec": {
   "display_name": "Python 3 (ipykernel)",
   "language": "python",
   "name": "python3"
  },
  "language_info": {
   "codemirror_mode": {
    "name": "ipython",
    "version": 3
   },
   "file_extension": ".py",
   "mimetype": "text/x-python",
   "name": "python",
   "nbconvert_exporter": "python",
   "pygments_lexer": "ipython3",
   "version": "3.11.8"
  }
 },
 "nbformat": 4,
 "nbformat_minor": 4
}
