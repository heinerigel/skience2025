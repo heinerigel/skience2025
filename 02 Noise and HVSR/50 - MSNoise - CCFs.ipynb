{
 "cells": [
  {
   "cell_type": "markdown",
   "id": "26e80800-aca1-48d3-8aa5-9d94d3ebb50d",
   "metadata": {},
   "source": [
    "# MSNoise 101 - Fast track to Cross-Correlation Functions from continuous seismic data"
   ]
  },
  {
   "cell_type": "markdown",
   "id": "47ee1eab-92b6-484e-8860-212bfc23f7dd",
   "metadata": {},
   "source": [
    "# Setup and Imports\r\n",
    "\r\n",
    "This cell sets up the Python environment for MSNoise analysis by:\r\n",
    "- Enabling inline matplotlib plotting\r\n",
    "- Importing required libraries for data processing and visualization\r\n",
    "- Configuring plot styling to use \"ggplot\" theme\r\n",
    "- Setting up pandas datetime handling\r\n",
    "- Importing all functions from MSNoise API\r\n",
    "\r\n",
    "Key imports:\r\n",
    "- obspy: For seismic data processing\r\n",
    "- pandas & numpy: For data manipulation\r\n",
    "- matplotlib: For visualization\r\n",
    "- msnoise.api: Core MSNoise functionality"
   ]
  },
  {
   "cell_type": "code",
   "execution_count": null,
   "id": "4fb9730b",
   "metadata": {
    "ExecuteTime": {
     "end_time": "2023-02-27T13:51:32.528549Z",
     "start_time": "2023-02-27T13:51:32.504613Z"
    }
   },
   "outputs": [],
   "source": [
    "%matplotlib inline\n",
    "import datetime\n",
    "import matplotlib.pyplot as plt\n",
    "import glob\n",
    "import os\n",
    "from obspy import read, UTCDateTime, read_inventory\n",
    "from obspy.signal import PPSD\n",
    "import warnings\n",
    "import pandas as pd\n",
    "import numpy as np\n",
    "import matplotlib.gridspec as gridspec\n",
    "from matplotlib.dates import DateFormatter\n",
    "from pandas.plotting import register_matplotlib_converters\n",
    "register_matplotlib_converters()\n",
    "plt.style.use(\"ggplot\")\n",
    "\n",
    "from msnoise.api import *"
   ]
  },
  {
   "cell_type": "code",
   "execution_count": null,
   "id": "e1c7f7fb-fc32-47e8-b38c-552ccc07ea2a",
   "metadata": {},
   "outputs": [],
   "source": [
    "# Path to where you have copied the DATA/ folder (that contains the SDS, RESP etc folders)\n",
    "DATA_PATH = \"DATA\""
   ]
  },
  {
   "cell_type": "markdown",
   "id": "401d5915-6bfb-40a4-88ad-5e6f44ad7205",
   "metadata": {},
   "source": [
    "# Initialize MSNoise Database\r\n",
    "\r\n",
    "Initializes the MSNoise database with:\r\n",
    "- Command: `msnoise db init --tech 1`\r\n",
    "- Parameters:\r\n",
    "  - `--tech 1`: Sets up the database with технология = 1 configuration\r\n",
    "\r\n",
    "This is typically the first step in setting up a new MSNoise project."
   ]
  },
  {
   "cell_type": "code",
   "execution_count": null,
   "id": "a94d8a1e-a2e7-4c2b-97fc-2a3274726aa7",
   "metadata": {},
   "outputs": [],
   "source": [
    "! msnoise db init --tech 1"
   ]
  },
  {
   "cell_type": "markdown",
   "id": "a19c8389-7fad-420b-9898-2591f9e6621c",
   "metadata": {},
   "source": [
    "# Database Connection\r\n",
    "\r\n",
    "Establishes connection to the MSNoise database using the `connect()` function.\r\n",
    "This connection will be used throughout the notebook for database operations."
   ]
  },
  {
   "cell_type": "code",
   "execution_count": null,
   "id": "458207f2-5a39-4c50-b299-daee31de0c17",
   "metadata": {},
   "outputs": [],
   "source": [
    "db = connect()"
   ]
  },
  {
   "cell_type": "markdown",
   "id": "eed7ce4d-a75f-44ab-b562-b663bd56704a",
   "metadata": {},
   "source": [
    "# Configure Processing Filters\r\n",
    "\r\n",
    "Sets up two different processing filters for the cross-correlation analysis:\r\n",
    "\r\n",
    "Filter 1 (Broadband):\r\n",
    "- Frequency band: 0.05-30.0 Hz\r\n",
    "- MWCS parameters:\r\n",
    "  - Window length: 12\r\n",
    "  - Step size: 4\r\n",
    "\r\n",
    "Filter 2 (Specific band):\r\n",
    "- Frequency band: 4-8 Hz\r\n",
    "- MWCS parameters:\r\n",
    "  - Window length: 2\r\n",
    "  - Step size: 1\r\n",
    "\r\n",
    "Both filters are set to be used (used=1)"
   ]
  },
  {
   "cell_type": "code",
   "execution_count": null,
   "id": "5c4b2f86-0d4f-4fa2-a9a4-f84dbec2b0f1",
   "metadata": {},
   "outputs": [],
   "source": [
    "update_filter(db, ref=1, low=0.05, mwcs_low=0.05, high=30.0, mwcs_high=30.0, mwcs_wlen=12, mwcs_step=4, used=1)\n",
    "update_filter(db, ref=2, low=4, mwcs_low=4, high=8.0, mwcs_high=8.0, mwcs_wlen=2, mwcs_step=1, used=1)"
   ]
  },
  {
   "cell_type": "markdown",
   "id": "c56a03a2-2c5c-4b57-a944-e08a077e618e",
   "metadata": {},
   "source": [
    "# MSNoise Configuration Settings\r\n",
    "\r\n",
    "Updates core MSNoise configuration parameters:\r\n",
    "- Data paths:\r\n",
    "  - `data_folder`: Location of seismic data in SDS format\r\n",
    "  - `response_path`: Location of instrument response files\r\n",
    "- Processing parameters:\r\n",
    "  - `maxlag`: Maximum lag time (60 seconds)\r\n",
    "  - `components_to_compute`: Components for cross-correlation (ZZ,EE,NN)\r\n",
    "  - `components_to_compute_single_station`: Additional singletation c (ful cl tensor)omponents\r\n",
    "  - `cc_sampling_rate`: Sampling rate for cross-correlations (200 Hz)\r\n",
    "  - `preprocess_lowpass`: Lowpass filter cutoff (99 Hz)"
   ]
  },
  {
   "cell_type": "code",
   "execution_count": null,
   "id": "b3653577-1648-4344-b369-8087e747035e",
   "metadata": {},
   "outputs": [],
   "source": [
    "update_config(db, name=\"data_folder\", value=os.path.join(DATA_PATH, \"SDS\"))\n",
    "update_config(db, name=\"response_path\", value=os.path.join(DATA_PATH, \"RESP\"))\n",
    "\n",
    "update_config(db, name=\"maxlag\", value=\"60\")\n",
    "update_config(db, name=\"components_to_compute_single_station\", value=\"ZZ,EE,NN,EN,EZ,EN\")\n",
    "update_config(db, name=\"components_to_compute\", value=\"ZZ,EE,NN\")\n",
    "update_config(db, name=\"cc_sampling_rate\", value=\"200\")\n",
    "update_config(db, name=\"preprocess_lowpass\", value=\"99\")"
   ]
  },
  {
   "cell_type": "markdown",
   "id": "df254ce9-a888-41fb-981d-ffc64e191ce6",
   "metadata": {},
   "source": [
    "# Display MSNoise Configuration\r\n",
    "\r\n",
    "Runs `msnoise info` to display:\r\n",
    "- Current configuration settings\r\n",
    "- Database status\r\n",
    "- Processing parameters\r\n",
    "- Station information\r\n",
    "\r\n",
    "This command is useful for verifying the setup and current state of the MSNoise environment."
   ]
  },
  {
   "cell_type": "code",
   "execution_count": null,
   "id": "adb44042431d0f34",
   "metadata": {
    "collapsed": false,
    "jupyter": {
     "outputs_hidden": false
    }
   },
   "outputs": [],
   "source": [
    "! msnoise info"
   ]
  },
  {
   "cell_type": "markdown",
   "id": "9c7a2373-4a80-4683-8035-08c5015b1b28",
   "metadata": {},
   "source": [
    "# Populate Database\r\n",
    "\r\n",
    "Executes `msnoise populate` with verbose output (-v flag) to:\r\n",
    "- Scan for available data files\r\n",
    "- Add station information to the database\r\n",
    "- Set up initial database structure\r\n",
    "- Prepare for data processing\r\n",
    "\r\n",
    "This is a key step that must be run after initial setup and whenever new data is added."
   ]
  },
  {
   "cell_type": "code",
   "execution_count": null,
   "id": "31c9dc22-239a-4794-b3a7-d2c494ac2b19",
   "metadata": {},
   "outputs": [],
   "source": [
    "! msnoise -v populate"
   ]
  },
  {
   "cell_type": "markdown",
   "id": "b4816c5d-467e-491b-b8ff-c99c99428291",
   "metadata": {},
   "source": [
    "# List All Stations\r\n",
    "\r\n",
    "Retrieves and displays all stations in the database:\r\n",
    "- Uses `get_stations()` function with all=True\r\n",
    "- Returns raw format output\r\n",
    "- Prints network code (net) and station name (sta) for each station\r\n",
    "\r\n",
    "Parameters:\r\n",
    "- `all=True`: Include all stations, even if not currently active\r\n",
    "- `format=\"raw\"`: Return raw database objects"
   ]
  },
  {
   "cell_type": "code",
   "execution_count": null,
   "id": "7487ed87-1a2a-4dee-a33e-21ec156eafe6",
   "metadata": {},
   "outputs": [],
   "source": [
    "for station in get_stations(db, all=True, format=\"raw\"):\n",
    "    print(station.net, station.sta)"
   ]
  },
  {
   "cell_type": "markdown",
   "id": "b17f3143-3157-4337-8bba-44aa8e71da3d",
   "metadata": {},
   "source": [
    "# Scan Data Archive\r\n",
    "\r\n",
    "Initializes the archive scanning process:\r\n",
    "- Command: `msnoise scan_archive --init`\r\n",
    "- Parameters:\r\n",
    "  - `-v`: Verbose output\r\n",
    "  - `-t 4`: Uses 4 threads for parallel processing\r\n",
    "  \r\n",
    "This step catalogs all available seismic data files in the configured data directory."
   ]
  },
  {
   "cell_type": "code",
   "execution_count": null,
   "id": "3217b8fd-66f4-4a80-b347-526a25542126",
   "metadata": {},
   "outputs": [],
   "source": [
    "! msnoise -v -t 4 scan_archive --init"
   ]
  },
  {
   "cell_type": "markdown",
   "id": "530901dc-d54b-4e79-b940-c323dab43b99",
   "metadata": {},
   "source": [
    "# Update Location and Channel Codes\r\n",
    "\r\n",
    "Updates the database with current location and channel information:\r\n",
    "- Command: `msnoise db update_loc_chan`\r\n",
    "- Synchronizes database with actual data structure\r\n",
    "- Updates any changed station metadata"
   ]
  },
  {
   "cell_type": "code",
   "execution_count": null,
   "id": "26bb422e-14f9-4444-bffe-3abb241432c5",
   "metadata": {},
   "outputs": [],
   "source": [
    "! msnoise db update_loc_chan"
   ]
  },
  {
   "cell_type": "markdown",
   "id": "74a93620-ddf9-46ba-84c3-2b1f06a50f0b",
   "metadata": {},
   "source": [
    "# Data Availability Plot Setup and Execution\r\n",
    "\r\n",
    "Imports and runs the data availability plotting function:\r\n",
    "1. Import the plotting function from MSNoise\r\n",
    "2. Create plot for EH channels (plot_DA(chan=\"EH?\"))\r\n",
    "\r\n",
    "Parameters:\r\n",
    "- `chan=\"EH?\"`: Filter to show only EH channels (where ? matches any character)\r\n",
    "\r\n",
    "This visualization helps identify data gaps and coverage periods."
   ]
  },
  {
   "cell_type": "code",
   "execution_count": null,
   "id": "602dc893-c269-4efb-b6fa-67d554d616c5",
   "metadata": {},
   "outputs": [],
   "source": [
    "from msnoise.plots.data_availability import main as plot_DA"
   ]
  },
  {
   "cell_type": "code",
   "execution_count": null,
   "id": "bca81b68-fef4-4195-888a-db1954046f0b",
   "metadata": {},
   "outputs": [],
   "source": [
    "plot_DA(chan=\"EH?\")"
   ]
  },
  {
   "cell_type": "markdown",
   "id": "2ba7cf2b-b038-4a1e-b0fc-eeb0642a930e",
   "metadata": {},
   "source": [
    "# Initialize Processing Jobs\r\n",
    "\r\n",
    "Creates new processing jobs:\r\n",
    "- Command: `msnoise new_jobs --init`\r\n",
    "- Sets up the initial batch of cross-correlation jobs\r\n",
    "- Prepares system for processing\r\n",
    "\r\n",
    "This command should be run after data has been added and before starting computations."
   ]
  },
  {
   "cell_type": "code",
   "execution_count": null,
   "id": "d9012ace-2893-4513-bb15-dc07d17bc5c8",
   "metadata": {},
   "outputs": [],
   "source": [
    "! msnoise -v new_jobs --init"
   ]
  },
  {
   "cell_type": "markdown",
   "id": "f2626a68-854a-4675-93e7-aaeccf4ad770",
   "metadata": {},
   "source": [
    "# Display Job Status\n",
    "\n",
    "Shows current job statistics:\n",
    "- Command: `msnoise info -j`\n",
    "- Displays:\n",
    "  - Total number of jobs\n",
    "  - Jobs completed/remaining\n",
    "  - Job types and their status"
   ]
  },
  {
   "cell_type": "code",
   "execution_count": null,
   "id": "641729e6-eab7-48f3-ba8d-86a216aca831",
   "metadata": {},
   "outputs": [],
   "source": [
    "! msnoise info -j"
   ]
  },
  {
   "cell_type": "markdown",
   "id": "34d2e9fc-d340-48fd-91e0-194baa1d87a2",
   "metadata": {},
   "source": [
    "# Compute Cross-Correlations\r\n",
    "\r\n",
    "Runs the cross-correlation computation:\r\n",
    "- Command: `msnoise cc compute_cc`\r\n",
    "Parameters:\r\n",
    "- `-t 5`: Use 5 threads\r\n",
    "- `-delay the start of the next thread by 5 secondsy step\r\n",
    "- `-v`: Verbose output\r\n",
    "\r\n",
    "This is the main processing step that computes cross-correlations between stati\n",
    "! NOTE: this will NOT output in real time, it's best to run it in the consoleon pairs."
   ]
  },
  {
   "cell_type": "code",
   "execution_count": null,
   "id": "f4c9b997",
   "metadata": {
    "ExecuteTime": {
     "end_time": "2023-02-26T09:07:35.469608Z",
     "start_time": "2023-02-26T09:07:35.449655Z"
    },
    "scrolled": true
   },
   "outputs": [],
   "source": [
    "! msnoise -t 5 -d 5 -v cc compute_cc"
   ]
  },
  {
   "cell_type": "markdown",
   "id": "a820a8ac-1447-450a-af18-9556b8911d6a",
   "metadata": {},
   "source": [
    "# Prepare Data for Analysis\r\n",
    "\r\n",
    "Sets up the analysis environment and loads results:\r\n",
    "1. Build date list between start and end dates\r\n",
    "2. Load parameters from database\r\n",
    "3. Get time axis for CCF plotting\r\n",
    "4. Load cross-correlation results for:\r\n",
    "   - Station pair: 8N.HB04.00 - 8N.HB04.00\r\n",
    "   - Filter ID: 1\r\n",
    "   - Component: ZZ\r\n",
    "   - Format: xarray\r\n",
    "\r\n",
    "This cell prepares data for visualization and analysis."
   ]
  },
  {
   "cell_type": "code",
   "execution_count": null,
   "id": "fd04675a",
   "metadata": {
    "ExecuteTime": {
     "end_time": "2023-02-26T09:39:43.483442Z",
     "start_time": "2023-02-26T09:39:41.529893Z"
    }
   },
   "outputs": [],
   "source": [
    "# Obtain a list of dates between ``start_date`` and ``enddate``\n",
    "start, end, datelist = build_movstack_datelist(db)\n",
    "\n",
    "# Get the list of parameters from the DB:\n",
    "params = get_params(db)\n",
    "\n",
    "# Get the time axis for plotting the CCF:\n",
    "taxis = get_t_axis(db)\n",
    "\n",
    "filter_id = 1\n",
    "\n",
    "# Get the results for two station, filter id=1, ZZ component, mov_stack=(\"1d\",\"1d\") and the results as a 2D array:\n",
    "ccfs = get_results_all(db, \"8N.HB01.00\", \"8N.HB04.00\", filter_id, \"ZZ\", datelist, format=\"xarray\")\n"
   ]
  },
  {
   "cell_type": "markdown",
   "id": "38572ac3-063d-4dfb-9fd6-926b7b2d85d5",
   "metadata": {},
   "source": [
    "# Cross-Correlation Function (CCF) Visualization Series\r\n",
    "\r\n",
    "A sequence of plots showing the CCF data in different views:\r\n",
    "1. Full CCF plot using xarray plotting (ccfs.CCF.plot)\r\n",
    "2. Zoomed CCF view (±20 seconds in the coda)\r\n",
    "3. 12-hour resampled mean of zoomed CCF\r\n",
    "4. 12-hour resampled median of zoomed CCF\r\n",
    "\r\n",
    "Parameters:\r\n",
    "- `robust=True`: Uses robust scaling for better visualization\r\n",
    "- Time window: Controlled by `zoom` variable (set to ±20 seconds)\r\n",
    "- Resampling period: 12 hours\r\n",
    "\r\n",
    "These visualizations help examine the stability and quality of the cross-correlations at different temporal scales."
   ]
  },
  {
   "cell_type": "code",
   "execution_count": null,
   "id": "6bbdff78-d00a-4e83-9796-5ee7716618c7",
   "metadata": {},
   "outputs": [],
   "source": [
    "ccfs.CCF.plot(robust=True)"
   ]
  },
  {
   "cell_type": "code",
   "execution_count": null,
   "id": "e4c7528e-df44-40b7-b0d3-a9a40d1862c7",
   "metadata": {},
   "outputs": [],
   "source": [
    "zoom = 20 # +-seconds in the coda"
   ]
  },
  {
   "cell_type": "code",
   "execution_count": null,
   "id": "7fef1f99-96fb-43d1-9918-655f39e6d510",
   "metadata": {},
   "outputs": [],
   "source": [
    "ccfs.CCF.loc[:,-zoom:zoom].plot(robust=True)"
   ]
  },
  {
   "cell_type": "code",
   "execution_count": null,
   "id": "3c4cbc7f-16dc-4286-94d0-e500cf823ca1",
   "metadata": {},
   "outputs": [],
   "source": [
    "ccfs.CCF.loc[:,-zoom:zoom].resample(times='12h').mean().plot(robust=True)"
   ]
  },
  {
   "cell_type": "code",
   "execution_count": null,
   "id": "c0f98c39-bd22-4bc2-bdd4-608575b87585",
   "metadata": {},
   "outputs": [],
   "source": [
    "ccfs.CCF.loc[:,-zoom:zoom].resample(times='12h').median().plot(robust=True)"
   ]
  },
  {
   "cell_type": "markdown",
   "id": "9207d830-c19f-48b4-be73-c99ae8f744a1",
   "metadata": {},
   "source": [
    "# Compare Mean and Median CCFs\n",
    "\n",
    "Creates a comparison plot of the mean and median CCFs:\n",
    "- Figure size: 12x5 inches\n",
    "- Shows both statistics on same axes\n",
    "- Includes legend for identification\n",
    "- Uses the same zoom window as previous plots\n",
    "\n",
    "This comparison helps identify potential data quality issues and the stability of the correlations."
   ]
  },
  {
   "cell_type": "code",
   "execution_count": null,
   "id": "d29da03d-77f1-4561-8ac2-e5252920d2c1",
   "metadata": {},
   "outputs": [],
   "source": [
    "fig, ax = plt.subplots(1,1, figsize=(12,5))\n",
    "print(ax)\n",
    "ccfs.CCF.loc[:,-zoom:zoom].mean(axis=0).plot(ax=ax,label=\"mean\")\n",
    "ccfs.CCF.loc[:,-zoom:zoom].median(axis=0).plot(ax=ax, label=\"median\")\n",
    "plt.legend()\n"
   ]
  },
  {
   "cell_type": "markdown",
   "id": "92fe9ad9",
   "metadata": {},
   "source": [
    "# Reference Stack Computation and Distance Plot\r\n",
    "\r\n",
    "Two-step process to create and visualize reference stacks:\r\n",
    "1. Compute reference stack:\r\n",
    "   - Syncs configuration\r\n",
    "   - Runs stack computation with -r flag\r\n",
    "\r\n",
    "2. Create distance plot:\r\n",
    "   - Uses MSNoise distance plotting function\r\n",
    "   - Parameters:\r\n",
    "     - filterid=1\r\n",
    "     - components=\"ZZ\"\r\n",
    "     - show=False (for custom display)\r\n",
    "\r\n",
    "This visualization helps understand the spatial relationship between stations and their correlations."
   ]
  },
  {
   "cell_type": "code",
   "execution_count": null,
   "id": "2b4857cb",
   "metadata": {},
   "outputs": [],
   "source": [
    "! msnoise config sync\n",
    "! msnoise cc stack -r"
   ]
  },
  {
   "cell_type": "code",
   "execution_count": null,
   "id": "bb4116bf-5781-4993-9745-a50c5bbb0f9b",
   "metadata": {},
   "outputs": [],
   "source": [
    "from msnoise.plots.distance import main as plot_distance\n",
    "plot_distance(filterid=1, components=\"ZZ\", show=False)\n",
    "# plt.xlim(-20,20)\n",
    "plt.show()"
   ]
  },
  {
   "cell_type": "markdown",
   "id": "75632b5f",
   "metadata": {},
   "source": [
    "# Moving Stack Configuration and Processing\r\n",
    "\r\n",
    "Series of commands to set up and process moving stacks:\r\n",
    "1. Reset stack jobs: `msnoise reset STACK`\r\n",
    "2. Configure moving stack parameters:\r\n",
    "   - Stack configurations: ('1d','1d'), ('2d','1d')\r\n",
    "3. Process moving stacks:\r\n",
    "   - Uses 4 threads (-t 4)\r\n",
    "4. Check job status\r\n",
    "\r\n",
    "This sequence creates shorter-term averages for monitoring temporal changes in the correlations."
   ]
  },
  {
   "cell_type": "code",
   "execution_count": null,
   "id": "d78ab49c",
   "metadata": {},
   "outputs": [],
   "source": [
    "! msnoise reset STACK\n",
    "! msnoise config set mov_stack=(('1d','1d'),('2d','1d'))\n"
   ]
  },
  {
   "cell_type": "code",
   "execution_count": null,
   "id": "16289ef1-7bd2-4265-84f6-99bed480b9e0",
   "metadata": {},
   "outputs": [],
   "source": [
    "! msnoise -t 4 cc stack -m"
   ]
  },
  {
   "cell_type": "code",
   "execution_count": null,
   "id": "4bba6aef-144d-4e8e-b566-72785ba285af",
   "metadata": {},
   "outputs": [],
   "source": [
    "! msnoise info -j"
   ]
  },
  {
   "cell_type": "code",
   "execution_count": null,
   "id": "b937a399-801f-487a-9578-fa626c1e0732",
   "metadata": {},
   "outputs": [],
   "source": []
  }
 ],
 "metadata": {
  "kernelspec": {
   "display_name": "Python 3 (ipykernel)",
   "language": "python",
   "name": "python3"
  },
  "language_info": {
   "codemirror_mode": {
    "name": "ipython",
    "version": 3
   },
   "file_extension": ".py",
   "mimetype": "text/x-python",
   "name": "python",
   "nbconvert_exporter": "python",
   "pygments_lexer": "ipython3",
   "version": "3.11.8"
  }
 },
 "nbformat": 4,
 "nbformat_minor": 5
}
